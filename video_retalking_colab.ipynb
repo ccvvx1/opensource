{
  "cells": [
    {
      "cell_type": "code",
      "execution_count": null,
      "metadata": {
        "id": "VjYy0F2gZIPR"
      },
      "outputs": [],
      "source": [
        "%cd /content/\n",
        "!git clone https://github.com/camenduru/video-retalking\n",
        "\n",
        "!apt -y install -qq aria2\n",
        "!aria2c --console-log-level=error -c -x 16 -s 16 -k 1M https://huggingface.co/camenduru/video-retalking/resolve/main/30_net_gen.pth -d /content/video-retalking/checkpoints -o 30_net_gen.pth\n",
        "!aria2c --console-log-level=error -c -x 16 -s 16 -k 1M https://huggingface.co/camenduru/video-retalking/resolve/main/BFM.zip -d /content/video-retalking/checkpoints -o BFM.zip\n",
        "!aria2c --console-log-level=error -c -x 16 -s 16 -k 1M https://huggingface.co/camenduru/video-retalking/resolve/main/DNet.pt -d /content/video-retalking/checkpoints -o DNet.pt\n",
        "!aria2c --console-log-level=error -c -x 16 -s 16 -k 1M https://huggingface.co/camenduru/video-retalking/resolve/main/ENet.pth -d /content/video-retalking/checkpoints -o ENet.pth\n",
        "!aria2c --console-log-level=error -c -x 16 -s 16 -k 1M https://huggingface.co/camenduru/video-retalking/resolve/main/GFPGANv1.3.pth -d /content/video-retalking/checkpoints -o GFPGANv1.3.pth\n",
        "!aria2c --console-log-level=error -c -x 16 -s 16 -k 1M https://huggingface.co/camenduru/video-retalking/resolve/main/GPEN-BFR-512.pth -d /content/video-retalking/checkpoints -o GPEN-BFR-512.pth\n",
        "!aria2c --console-log-level=error -c -x 16 -s 16 -k 1M https://huggingface.co/camenduru/video-retalking/resolve/main/LNet.pth -d /content/video-retalking/checkpoints -o LNet.pth\n",
        "!aria2c --console-log-level=error -c -x 16 -s 16 -k 1M https://huggingface.co/camenduru/video-retalking/resolve/main/ParseNet-latest.pth -d /content/video-retalking/checkpoints -o ParseNet-latest.pth\n",
        "!aria2c --console-log-level=error -c -x 16 -s 16 -k 1M https://huggingface.co/camenduru/video-retalking/resolve/main/RetinaFace-R50.pth -d /content/video-retalking/checkpoints -o RetinaFace-R50.pth\n",
        "!aria2c --console-log-level=error -c -x 16 -s 16 -k 1M https://huggingface.co/camenduru/video-retalking/resolve/main/expression.mat -d /content/video-retalking/checkpoints -o expression.mat\n",
        "!aria2c --console-log-level=error -c -x 16 -s 16 -k 1M https://huggingface.co/camenduru/video-retalking/resolve/main/face3d_pretrain_epoch_20.pth -d /content/video-retalking/checkpoints -o face3d_pretrain_epoch_20.pth\n",
        "!aria2c --console-log-level=error -c -x 16 -s 16 -k 1M https://huggingface.co/camenduru/video-retalking/resolve/main/shape_predictor_68_face_landmarks.dat -d /content/video-retalking/checkpoints -o shape_predictor_68_face_landmarks.dat\n",
        "!aria2c --console-log-level=error -c -x 16 -s 16 -k 1M https://huggingface.co/camenduru/facexlib/resolve/main/detection_Resnet50_Final.pth -d /usr/local/lib/python3.10/dist-packages/facexlib/weights -o detection_Resnet50_Final.pth\n",
        "!aria2c --console-log-level=error -c -x 16 -s 16 -k 1M https://huggingface.co/camenduru/facexlib/resolve/main/s3fd-619a316812.pth -d /root/.cache/torch/hub/checkpoints -o s3fd-619a316812.pth\n",
        "!aria2c --console-log-level=error -c -x 16 -s 16 -k 1M https://huggingface.co/camenduru/facexlib/resolve/main/2DFAN4-cd938726ad.zip -d /root/.cache/torch/hub/checkpoints -o 2DFAN4-cd938726ad.zip\n",
        "!unzip -d /content/video-retalking/checkpoints/BFM /content/video-retalking/checkpoints/BFM.zip\n",
        "\n",
        "!pip install -q basicsr==1.4.2 face-alignment==1.3.4 facexlib==0.2.5 librosa==0.9.2 ninja==1.11.1.1 einops==0.7.0 kornia==0.7.0 -U"
      ]
    },
    {
      "cell_type": "code",
      "execution_count": null,
      "metadata": {
        "id": "6Ve4FQlOL--C"
      },
      "outputs": [],
      "source": [
        "%cd /content/video-retalking\n",
        "\n",
        "!python inference.py \\\n",
        "  --face \"/content/video-retalking/examples/face/1.mp4\" \\\n",
        "  --audio \"/content/video-retalking/examples/audio/1.wav\" \\\n",
        "  --outfile '/content/output_high_qual.mp4'"
      ]
    }
  ],
  "metadata": {
    "accelerator": "GPU",
    "colab": {
      "gpuType": "T4",
      "provenance": []
    },
    "kernelspec": {
      "display_name": "Python 3",
      "name": "python3"
    },
    "language_info": {
      "name": "python"
    }
  },
  "nbformat": 4,
  "nbformat_minor": 0
}