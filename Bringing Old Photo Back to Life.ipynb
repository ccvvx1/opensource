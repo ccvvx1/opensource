{
  "cells": [
    {
      "cell_type": "markdown",
      "metadata": {
        "id": "Vkkr1Sq6t2lM"
      },
      "source": [
        "#◢ Bringing Old Photos Back to Life"
      ]
    },
    {
      "cell_type": "markdown",
      "metadata": {
        "id": "ypb6kal06Tb1"
      },
      "source": [
        "This is a reference implementation of our CVPR 2020 paper [1], which  revives an old photo to modern style. Should you be making use of our work, please cite our paper [1]."
      ]
    },
    {
      "cell_type": "markdown",
      "metadata": {
        "id": "IwXBx7z6rfXK"
      },
      "source": [
        "\n",
        "\n",
        "---\n",
        "\n",
        "\n",
        "#◢ Verify Runtime Settings\n",
        "\n",
        "**\u003cfont color='#FF000'\u003e IMPORTANT \u003c/font\u003e**\n",
        "\n",
        "In the \"Runtime\" menu for the notebook window, select \"Change runtime type.\" Ensure that the following are selected:\n",
        "* Runtime Type = Python 3\n",
        "* Hardware Accelerator = GPU \n"
      ]
    },
    {
      "cell_type": "markdown",
      "metadata": {
        "id": "ZMZ2EAlBrvkq"
      },
      "source": [
        "#◢ Git clone\n"
      ]
    },
    {
      "cell_type": "code",
      "execution_count": 1,
      "metadata": {
        "colab": {
          "base_uri": "https://localhost:8080/"
        },
        "executionInfo": {
          "elapsed": 3955,
          "status": "ok",
          "timestamp": 1670659576279,
          "user": {
            "displayName": "Ttnn Wwaw",
            "userId": "03926079553968079319"
          },
          "user_tz": -480
        },
        "id": "69H2guBfrzqu",
        "outputId": "741ceb82-7765-4772-e2d8-7cae874778a5"
      },
      "outputs": [],
      "source": [
        "!git clone https://github.com/microsoft/Bringing-Old-Photos-Back-to-Life.git photo_restoration"
      ]
    },
    {
      "cell_type": "markdown",
      "metadata": {
        "id": "Ubc05fcKzk90"
      },
      "source": [
        "#◢ Set up the environment\n"
      ]
    },
    {
      "cell_type": "code",
      "execution_count": null,
      "metadata": {
        "colab": {
          "background_save": true,
          "base_uri": "https://localhost:8080/"
        },
        "id": "32jCofdSr8AW"
      },
      "outputs": [],
      "source": [
        "# pull the syncBN repo\n",
        "# pull the syncBN repo\n",
        "%cd photo_restoration/Face_Enhancement/models/networks\n",
        "!git clone https://github.com/vacancy/Synchronized-BatchNorm-PyTorch\n",
        "!cp -rf Synchronized-BatchNorm-PyTorch/sync_batchnorm .\n",
        "%cd ../../../\n",
        "\n",
        "%cd Global/detection_models\n",
        "!git clone https://github.com/vacancy/Synchronized-BatchNorm-PyTorch\n",
        "!cp -rf Synchronized-BatchNorm-PyTorch/sync_batchnorm .\n",
        "%cd ../../\n",
        "\n",
        "# download the landmark detection model\n",
        "%cd Face_Detection/\n",
        "!wget http://dlib.net/files/shape_predictor_68_face_landmarks.dat.bz2\n",
        "!bzip2 -d shape_predictor_68_face_landmarks.dat.bz2\n",
        "%cd ../\n",
        "\n",
        "# download the pretrained model\n",
        "%cd Face_Enhancement/\n",
        "# !wget https://facevc.blob.core.windows.net/zhanbo/old_photo/pretrain/Face_Enhancement/checkpoints.zip\n",
        "!wget https://github.com/microsoft/Bringing-Old-Photos-Back-to-Life/releases/download/v1.0/face_checkpoints.zip\n",
        "!unzip face_checkpoints.zip\n",
        "# !unzip checkpoints.zip\n",
        "%cd ../\n",
        "\n",
        "%cd Global/\n",
        "# !wget https://facevc.blob.core.windows.net/zhanbo/old_photo/pretrain/Global/checkpoints.zip\n",
        "!wget https://github.com/microsoft/Bringing-Old-Photos-Back-to-Life/releases/download/v1.0/global_checkpoints.zip\n",
        "!unzip global_checkpoints.zip\n",
        "%cd ../"
      ]
    },
    {
      "cell_type": "code",
      "execution_count": null,
      "metadata": {
        "colab": {
          "background_save": true,
          "base_uri": "https://localhost:8080/"
        },
        "executionInfo": {
          "elapsed": 128658,
          "status": "ok",
          "timestamp": 1606717529612,
          "user": {
            "displayName": "Bo Zhang",
            "photoUrl": "",
            "userId": "14454056311632643408"
          },
          "user_tz": -480
        },
        "id": "B3v8tvmtw85c"
      },
      "outputs": [],
      "source": [
        "! pip install -r requirements.txt"
      ]
    },
    {
      "cell_type": "markdown",
      "metadata": {
        "id": "soHBzgRU8rPY"
      },
      "source": [
        "#◢ Run the code"
      ]
    },
    {
      "cell_type": "markdown",
      "metadata": {
        "id": "EVpoONmCcJDt"
      },
      "source": [
        "### Restore photos (normal mode)"
      ]
    },
    {
      "cell_type": "code",
      "execution_count": null,
      "metadata": {
        "colab": {
          "base_uri": "https://localhost:8080/"
        },
        "executionInfo": {
          "elapsed": 201070,
          "status": "ok",
          "timestamp": 1606717602029,
          "user": {
            "displayName": "Bo Zhang",
            "photoUrl": "",
            "userId": "14454056311632643408"
          },
          "user_tz": -480
        },
        "id": "q6lNy6jw5rjd",
        "outputId": "e230d7ee-c6d5-48fa-f864-8f9839eec848"
      },
      "outputs": [],
      "source": [
        "%cd /content/photo_restoration/\n",
        "input_folder = \"test_images/old\"\n",
        "output_folder = \"output\"\n",
        "\n",
        "import os\n",
        "basepath = os.getcwd()\n",
        "input_path = os.path.join(basepath, input_folder)\n",
        "output_path = os.path.join(basepath, output_folder)\n",
        "os.mkdir(output_path)\n",
        "\n",
        "!python run.py --input_folder /content/photo_restoration/test_images/old --output_folder /content/photo_restoration/output/ --GPU 0"
      ]
    },
    {
      "cell_type": "code",
      "execution_count": null,
      "metadata": {
        "id": "6yeeDiM4exHz"
      },
      "outputs": [],
      "source": [
        "import io\n",
        "import IPython.display\n",
        "import numpy as np\n",
        "import PIL.Image\n",
        "\n",
        "def imshow(a, format='png', jpeg_fallback=True):\n",
        "    a = np.asarray(a, dtype=np.uint8)\n",
        "    data = io.BytesIO()\n",
        "    PIL.Image.fromarray(a).save(data, format)\n",
        "    im_data = data.getvalue()\n",
        "    try:\n",
        "      disp = IPython.display.display(IPython.display.Image(im_data))\n",
        "    except IOError:\n",
        "      if jpeg_fallback and format != 'jpeg':\n",
        "        print(('Warning: image was too large to display in format \"{}\"; '\n",
        "              'trying jpeg instead.').format(format))\n",
        "        return imshow(a, format='jpeg')\n",
        "      else:\n",
        "        raise\n",
        "    return disp\n",
        "\n",
        "def make_grid(I1, I2, resize=True):\n",
        "    I1 = np.asarray(I1)\n",
        "    H, W = I1.shape[0], I1.shape[1]\n",
        "    \n",
        "    if I1.ndim \u003e= 3:\n",
        "        I2 = np.asarray(I2.resize((W,H)))\n",
        "        I_combine = np.zeros((H,W*2,3))\n",
        "        I_combine[:,:W,:] = I1[:,:,:3]\n",
        "        I_combine[:,W:,:] = I2[:,:,:3]\n",
        "    else:\n",
        "        I2 = np.asarray(I2.resize((W,H)).convert('L'))\n",
        "        I_combine = np.zeros((H,W*2))\n",
        "        I_combine[:,:W] = I1[:,:]\n",
        "        I_combine[:,W:] = I2[:,:]\n",
        "    I_combine = PIL.Image.fromarray(np.uint8(I_combine))\n",
        "\n",
        "    W_base = 600\n",
        "    if resize:\n",
        "      ratio = W_base / (W*2)\n",
        "      H_new = int(H * ratio)\n",
        "      I_combine = I_combine.resize((W_base, H_new), PIL.Image.LANCZOS)\n",
        "\n",
        "    return I_combine"
      ]
    },
    {
      "cell_type": "code",
      "execution_count": null,
      "metadata": {
        "colab": {
          "background_save": true,
          "base_uri": "https://localhost:8080/",
          "height": 1000,
          "output_embedded_package_id": "1oeYklZOpwWh1mhzX5bKjtrY5OTnCN_7_"
        },
        "executionInfo": {
          "elapsed": 205836,
          "status": "ok",
          "timestamp": 1606717606799,
          "user": {
            "displayName": "Bo Zhang",
            "photoUrl": "",
            "userId": "14454056311632643408"
          },
          "user_tz": -480
        },
        "id": "u_Eo4Hjti7Nh",
        "outputId": "df5bf15b-e39e-42bf-9a5e-3049351e8baf"
      },
      "outputs": [],
      "source": [
        "filenames = os.listdir(os.path.join(input_path))\n",
        "filenames.sort()\n",
        "\n",
        "for filename in filenames:\n",
        "    print(filename)\n",
        "    image_original = PIL.Image.open(os.path.join(input_path, filename))\n",
        "    image_restore = PIL.Image.open(os.path.join(output_path, 'final_output', filename))\n",
        "\n",
        "    display(make_grid(image_original, image_restore))"
      ]
    },
    {
      "cell_type": "markdown",
      "metadata": {
        "id": "tSUF96UgTuwd"
      },
      "source": [
        "### Restore the photos with scratches"
      ]
    },
    {
      "cell_type": "code",
      "execution_count": null,
      "metadata": {
        "colab": {
          "base_uri": "https://localhost:8080/"
        },
        "executionInfo": {
          "elapsed": 237344,
          "status": "ok",
          "timestamp": 1606717638309,
          "user": {
            "displayName": "Bo Zhang",
            "photoUrl": "",
            "userId": "14454056311632643408"
          },
          "user_tz": -480
        },
        "id": "K-yb3lO5T8aM",
        "outputId": "23530418-933e-4f3f-a3b0-50e137944106"
      },
      "outputs": [],
      "source": [
        "!rm -rf /content/photo_restoration/output/*\n",
        "!python run.py --input_folder /content/photo_restoration/test_images/old_w_scratch/ --output_folder /content/photo_restoration/output/ --GPU 0 --with_scratch"
      ]
    },
    {
      "cell_type": "code",
      "execution_count": null,
      "metadata": {
        "colab": {
          "base_uri": "https://localhost:8080/",
          "height": 1000
        },
        "executionInfo": {
          "elapsed": 238326,
          "status": "ok",
          "timestamp": 1606717639292,
          "user": {
            "displayName": "Bo Zhang",
            "photoUrl": "",
            "userId": "14454056311632643408"
          },
          "user_tz": -480
        },
        "id": "dSSORPEMUSH0",
        "outputId": "195bb514-9913-4144-9a77-7270ed8ce4ca"
      },
      "outputs": [],
      "source": [
        "input_folder = \"test_images/old_w_scratch\"\n",
        "output_folder = \"output\"\n",
        "input_path = os.path.join(basepath, input_folder)\n",
        "output_path = os.path.join(basepath, output_folder)\n",
        "\n",
        "filenames = os.listdir(os.path.join(input_path))\n",
        "filenames.sort()\n",
        "\n",
        "for filename in filenames:\n",
        "    print(filename)\n",
        "    image_original = PIL.Image.open(os.path.join(input_path, filename))\n",
        "    image_restore = PIL.Image.open(os.path.join(output_path, 'final_output', filename))\n",
        "\n",
        "    display(make_grid(image_original, image_restore))"
      ]
    },
    {
      "cell_type": "markdown",
      "metadata": {
        "id": "LMnje_NWj24x"
      },
      "source": [
        "#◢ Try it on your own photos!"
      ]
    },
    {
      "cell_type": "code",
      "execution_count": null,
      "metadata": {
        "colab": {
          "base_uri": "https://localhost:8080/",
          "height": 349,
          "resources": {
            "http://localhost:8080/nbextensions/google.colab/files.js": {
              "headers": [
                [
                  "content-type",
                  "application/javascript"
                ]
              ],
              "ok": true,
              "status": 200,
              "status_text": ""
            }
          }
        },
        "executionInfo": {
          "elapsed": 132707,
          "status": "ok",
          "timestamp": 1606718625135,
          "user": {
            "displayName": "Bo Zhang",
            "photoUrl": "",
            "userId": "14454056311632643408"
          },
          "user_tz": -480
        },
        "id": "8Vov9hg957-D",
        "outputId": "2256d0e7-a593-47b5-f62d-363d455b06ee"
      },
      "outputs": [],
      "source": [
        "from google.colab import files\n",
        "import shutil\n",
        "\n",
        "upload_path = os.path.join(basepath, \"test_images\", \"upload\")\n",
        "upload_output_path = os.path.join(basepath, \"upload_output\")\n",
        "\n",
        "if os.path.isdir(upload_output_path):\n",
        "    shutil.rmtree(upload_output_path)\n",
        "\n",
        "if os.path.isdir(upload_path):\n",
        "    shutil.rmtree(upload_path)\n",
        "\n",
        "os.mkdir(upload_output_path)\n",
        "os.mkdir(upload_path)\n",
        "\n",
        "uploaded = files.upload()\n",
        "for filename in uploaded.keys():\n",
        "    shutil.move(os.path.join(basepath, filename), os.path.join(upload_path, filename))"
      ]
    },
    {
      "cell_type": "markdown",
      "metadata": {
        "id": "cy9vSWTHMH5U"
      },
      "source": [
        "Run the processing with:"
      ]
    },
    {
      "cell_type": "code",
      "execution_count": null,
      "metadata": {
        "colab": {
          "base_uri": "https://localhost:8080/"
        },
        "executionInfo": {
          "elapsed": 27168,
          "status": "ok",
          "timestamp": 1606718653998,
          "user": {
            "displayName": "Bo Zhang",
            "photoUrl": "",
            "userId": "14454056311632643408"
          },
          "user_tz": -480
        },
        "id": "EgRUwTqsjr7m",
        "outputId": "463c637d-6c0c-412b-b324-a35b53fba5bc"
      },
      "outputs": [],
      "source": [
        "!python run.py --input_folder /content/photo_restoration/test_images/upload --output_folder /content/photo_restoration/upload_output --GPU 0 --with_scratch --HR"
      ]
    },
    {
      "cell_type": "markdown",
      "metadata": {
        "id": "_lEXtwXpLl1L"
      },
      "source": [
        "### Visualize\n",
        "\n",
        "Now you have all your results under the folder `upload_output` and you can *manually* right click and download them.\n",
        "\n",
        "Here we use the child photos of celebrities from https://www.boredpanda.com/childhood-celebrities-when-they-were-young-kids/?utm_source=google\u0026utm_medium=organic\u0026utm_campaign=organic "
      ]
    },
    {
      "cell_type": "code",
      "execution_count": null,
      "metadata": {
        "colab": {
          "base_uri": "https://localhost:8080/",
          "height": 1000
        },
        "executionInfo": {
          "elapsed": 30163,
          "status": "ok",
          "timestamp": 1606718657481,
          "user": {
            "displayName": "Bo Zhang",
            "photoUrl": "",
            "userId": "14454056311632643408"
          },
          "user_tz": -480
        },
        "id": "KvqDOPXnLmkl",
        "outputId": "1cf34e14-d819-4000-904a-8a0161587995"
      },
      "outputs": [],
      "source": [
        "filenames_upload = os.listdir(os.path.join(upload_path))\n",
        "filenames_upload.sort()\n",
        "\n",
        "filenames_upload_output = os.listdir(os.path.join(upload_output_path, \"final_output\"))\n",
        "filenames_upload_output.sort()\n",
        "\n",
        "for filename, filename_output in zip(filenames_upload, filenames_upload_output):\n",
        "    image_original = PIL.Image.open(os.path.join(upload_path, filename))\n",
        "    image_restore = PIL.Image.open(os.path.join(upload_output_path, \"final_output\", filename_output))\n",
        "\n",
        "    display(make_grid(image_original, image_restore))\n",
        "    print(\"\")"
      ]
    },
    {
      "cell_type": "markdown",
      "metadata": {
        "id": "T2B75ztFYnnK"
      },
      "source": [
        "## Download your results\n",
        "\n"
      ]
    },
    {
      "cell_type": "code",
      "execution_count": null,
      "metadata": {
        "colab": {
          "base_uri": "https://localhost:8080/",
          "height": 34
        },
        "executionInfo": {
          "elapsed": 29128,
          "status": "ok",
          "timestamp": 1606718657484,
          "user": {
            "displayName": "Bo Zhang",
            "photoUrl": "",
            "userId": "14454056311632643408"
          },
          "user_tz": -480
        },
        "id": "0pJxB6p1R1jE",
        "outputId": "397c2931-d2de-4cdc-94cb-d68899113061"
      },
      "outputs": [],
      "source": [
        "output_folder = os.path.join(upload_output_path, \"final_output\")\n",
        "print(output_folder)\n",
        "os.system(f\"zip -r -j download.zip {output_folder}/*\")\n",
        "files.download(\"download.zip\")"
      ]
    },
    {
      "cell_type": "code",
      "execution_count": null,
      "metadata": {
        "id": "tdFXuH9qd5u9"
      },
      "outputs": [],
      "source": []
    }
  ],
  "metadata": {
    "accelerator": "GPU",
    "colab": {
      "name": "",
      "provenance": [
        {
          "file_id": "1NEm6AsybIiC5TwTU_4DqDkQO0nFRB-uA",
          "timestamp": 1670658765288
        }
      ],
      "version": ""
    },
    "kernelspec": {
      "display_name": "Python 3",
      "name": "python3"
    }
  },
  "nbformat": 4,
  "nbformat_minor": 0
}