{
  "cells": [
    {
      "cell_type": "code",
      "execution_count": null,
      "metadata": {},
      "outputs": [],
      "source": [
        "!pip install virtualenv\n",
        "!virtualenv venv\n",
        "!cat /content/venv/bin/activate\n",
        "tmpAct = '/content/venv/bin/activate'\n",
        "!cp $tmpAct /content/venv/bin/activate1\n",
        "!cp $tmpAct /content/venv/bin/activate2\n",
        "!cp $tmpAct /content/venv/bin/activate3\n",
        "!cp $tmpAct /content/venv/bin/activate4\n",
        "!cp $tmpAct /content/venv/bin/activate5\n",
        "!cp $tmpAct /content/venv/bin/activate6\n",
        "!cp $tmpAct /content/venv/bin/activate7\n",
        "!cp $tmpAct /content/venv/bin/activate8\n",
        "!cp $tmpAct /content/venv/bin/activate9"
      ]
    },
    {
      "cell_type": "code",
      "execution_count": null,
      "metadata": {},
      "outputs": [],
      "source": [
        "import os;\n",
        "os.environ['VIRTUAL_ENV'] = '/content/venv'\n",
        "os.environ['PATH'] = '/content/venv/bin:/opt/bin:/usr/local/nvidia/bin:/usr/local/cuda/bin:/usr/local/sbin:/usr/local/bin:/usr/sbin:/usr/bin:/sbin:/bin:/tools/node/bin:/tools/google-cloud-sdk/bin'\n",
        "os.environ['VIRTUAL_ENV_PROMPT'] = 'venv'\n",
        "os.environ['PS1'] = '(venv) '"
      ]
    },
    {
      "cell_type": "code",
      "execution_count": null,
      "metadata": {},
      "outputs": [],
      "source": [
        "!pip install torch==2.1.0+cu118 torchvision==0.16.0+cu118 torchaudio==2.1.0+cu118 torchtext==0.16.0 torchdata==0.7.0 --extra-index-url https://download.pytorch.org/whl/cu118 -U\n"
      ]
    },
    {
      "cell_type": "code",
      "execution_count": null,
      "metadata": {
        "id": "gYk8_u_ZmN0Y"
      },
      "outputs": [],
      "source": [
        "!apt -y install -qq aria2 xvfb\n",
        "!wget https://github.com/camenduru/gperftools/releases/download/v1.0/libtcmalloc_minimal.so.4 -O /content/libtcmalloc_minimal.so.4\n",
        "%env LD_PRELOAD=/content/libtcmalloc_minimal.so.4\n",
        "\n",
        "!pip install vispy transforms3d networkx\n",
        "%cd /content/\n",
        "!git clone -b dev https://github.com/camenduru/3d-photo-inpainting\n",
        "%cd /content/3d-photo-inpainting\n",
        "!git clone https://github.com/camenduru/BoostingMonocularDepth\n",
        "\n",
        "!aria2c --console-log-level=error -c -x 16 -s 16 -k 1M https://huggingface.co/camenduru/3d-photo-inpainting/resolve/main/color-model.pth -d /content/3d-photo-inpainting/checkpoints -o color-model.pth\n",
        "!aria2c --console-log-level=error -c -x 16 -s 16 -k 1M https://huggingface.co/camenduru/3d-photo-inpainting/resolve/main/depth-model.pth -d /content/3d-photo-inpainting/checkpoints -o depth-model.pth\n",
        "!aria2c --console-log-level=error -c -x 16 -s 16 -k 1M https://huggingface.co/camenduru/3d-photo-inpainting/resolve/main/edge-model.pth -d /content/3d-photo-inpainting/checkpoints -o edge-model.pth\n",
        "!aria2c --console-log-level=error -c -x 16 -s 16 -k 1M https://huggingface.co/camenduru/3d-photo-inpainting/resolve/main/model.pt -d /content/3d-photo-inpainting/checkpoints -o model.pt\n",
        "\n",
        "!aria2c --console-log-level=error -c -x 16 -s 16 -k 1M https://huggingface.co/camenduru/3d-photo-inpainting/resolve/main/latest_net_G.pth -d /content/3d-photo-inpainting/BoostingMonocularDepth/pix2pix/checkpoints/mergemodel -o latest_net_G.pth\n",
        "!aria2c --console-log-level=error -c -x 16 -s 16 -k 1M https://huggingface.co/camenduru/3d-photo-inpainting/resolve/main/model-f46da743.pt -d /content/3d-photo-inpainting/BoostingMonocularDepth/midas -o model.pt"
      ]
    },
    {
      "cell_type": "code",
      "execution_count": null,
      "metadata": {
        "id": "sJpiST0fqxZf"
      },
      "outputs": [],
      "source": [
        "%cd /content/3d-photo-inpainting\n",
        "!xvfb-run -s \"-screen 0 1280x720x24\" python main.py --config argument.yml"
      ]
    }
  ],
  "metadata": {
    "accelerator": "GPU",
    "colab": {
      "gpuType": "T4",
      "provenance": []
    },
    "kernelspec": {
      "display_name": "Python 3",
      "name": "python3"
    },
    "language_info": {
      "name": "python"
    }
  },
  "nbformat": 4,
  "nbformat_minor": 0
}
