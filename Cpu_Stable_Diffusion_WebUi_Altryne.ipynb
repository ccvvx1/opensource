{
 "cells": [
  {
   "cell_type": "code",
   "execution_count": null,
   "metadata": {},
   "outputs": [],
   "source": [
    "!sudo apt install python3.8\n",
    "!sudo apt install python3.8-distutils\n",
    "!pip install virtualenv\n",
    "!virtualenv -p python3.8 venv\n",
    "!cat /content/venv/bin/activate\n",
    "tmpAct = '/content/venv/bin/activate'\n",
    "!cp $tmpAct /content/venv/bin/activate1\n",
    "!cp $tmpAct /content/venv/bin/activate2\n",
    "!cp $tmpAct /content/venv/bin/activate3\n",
    "!cp $tmpAct /content/venv/bin/activate4\n",
    "!cp $tmpAct /content/venv/bin/activate5\n",
    "!cp $tmpAct /content/venv/bin/activate6\n",
    "!cp $tmpAct /content/venv/bin/activate7\n",
    "!cp $tmpAct /content/venv/bin/activate8\n",
    "!cp $tmpAct /content/venv/bin/activate9"
   ]
  },
  {
   "cell_type": "code",
   "execution_count": null,
   "metadata": {},
   "outputs": [],
   "source": [
    "tmpAct = '/content/venv/bin/activate'"
   ]
  },
  {
   "cell_type": "code",
   "execution_count": null,
   "metadata": {},
   "outputs": [],
   "source": [
    "fileName = tmpAct\n",
    "!sed -i \"s/export VIRTUAL_ENV_PROMPT/export  VIRTUAL_ENV_PROMPT \\&\\& echo \\\"os.environ['VIRTUAL_ENV_PROMPT'] = '\\$VIRTUAL_ENV_PROMPT'\\\"/g\" $fileName\n",
    "!sed -i \"s/export VIRTUAL_ENV/export VIRTUAL_ENV \\&\\& echo \\\"import os;\\\" \\&\\& echo \\\"os.environ['VIRTUAL_ENV'] = '\\$VIRTUAL_ENV'\\\"/g\" $fileName\n",
    "!sed -i \"s/export PS1/export PS1 \\&\\& echo \\\"os.environ['PS1'] = '\\$PS1'\\\"/g\" $fileName\n",
    "!sed -i \"s/export PATH/export PATH \\&\\& echo \\\"os.environ['PATH'] = '\\$PATH'\\\"/g\" $fileName\n",
    "!sed -i \"s/export PYTHONHOME/export PYTHONHOME \\&\\& echo \\\"os.environ['PYTHONHOME'] = '\\$PYTHONHOME'\\\"/g\" $fileName\n",
    "!cat $tmpAct"
   ]
  },
  {
   "cell_type": "code",
   "execution_count": null,
   "metadata": {},
   "outputs": [],
   "source": [
    "!. $tmpAct"
   ]
  },
  {
   "cell_type": "code",
   "execution_count": null,
   "metadata": {},
   "outputs": [],
   "source": []
  },
  {
   "cell_type": "code",
   "execution_count": null,
   "metadata": {},
   "outputs": [],
   "source": [
    "!curl https://f004.backblazeb2.com/file/aai-blog-files/sd-v1-4.ckpt > sd-v1-4.ckpt"
   ]
  },
  {
   "cell_type": "code",
   "execution_count": null,
   "metadata": {},
   "outputs": [],
   "source": [
    "%cd /content\n",
    "!git clone https://github.com/ccvvx1/Python_sdpu.git"
   ]
  },
  {
   "cell_type": "code",
   "execution_count": null,
   "metadata": {},
   "outputs": [],
   "source": [
    "%cd /content/stable-diffusion\n",
    "!pip install albumentations==0.4.3\n",
    "!pip install diffusers\n",
    "!pip install opencv-python==4.1.2.30\n",
    "!pip install pudb==2019.2\n",
    "!pip install invisible-watermark\n",
    "!pip install imageio==2.9.0\n",
    "!pip install imageio-ffmpeg==0.4.2\n",
    "!pip install pytorch-lightning==1.4.2\n",
    "!pip install omegaconf==2.1.1\n",
    "!pip install test-tube>=0.7.5\n",
    "!pip install streamlit>=0.73.1\n",
    "!pip install einops==0.3.0\n",
    "!pip install torch-fidelity==0.3.0\n",
    "!pip install transformers==4.19.2\n",
    "!pip install torchmetrics==0.6.0\n",
    "!pip install kornia==0.6\n",
    "!pip install -e git+https://github.com/CompVis/taming-transformers.git@master#egg=taming-transformers\n",
    "!pip install -e git+https://github.com/openai/CLIP.git@main#egg=clip\n",
    "!pip install -e .\n"
   ]
  },
  {
   "cell_type": "code",
   "execution_count": null,
   "metadata": {},
   "outputs": [],
   "source": [
    "!mkdir -p models/ldm/stable-diffusion-v1/\n",
    "!ln -s /content/sd-v1-4.ckpt models/ldm/stable-diffusion-v1/model.ckpt "
   ]
  },
  {
   "cell_type": "code",
   "execution_count": null,
   "metadata": {},
   "outputs": [],
   "source": [
    "!python scripts/txt2img.py --prompt \"a photograph of an astronaut riding a horse\" --plms "
   ]
  }
 ],
 "metadata": {
  "language_info": {
   "name": "python"
  },
  "orig_nbformat": 4
 },
 "nbformat": 4,
 "nbformat_minor": 2
}
