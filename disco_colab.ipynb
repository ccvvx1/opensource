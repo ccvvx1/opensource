{
  "cells": [
    {
      "cell_type": "code",
      "source": [
        "!pip install gradio==3.50.0"
      ],
      "metadata": {
        "id": "jrc5LGAvZkKY"
      },
      "execution_count": null,
      "outputs": []
    },
    {
      "cell_type": "code",
      "execution_count": null,
      "metadata": {
        "id": "VjYy0F2gZIPR"
      },
      "outputs": [],
      "source": [
        "%cd /content\n",
        "!git clone -b dev https://github.com/camenduru/disco-hf\n",
        "!pip install -q lpips yapf tensorboardx addict gradio\n",
        "%cd /content/disco-hf\n",
        "!python app.py"
      ]
    }
  ],
  "metadata": {
    "colab": {
      "provenance": []
    },
    "kernelspec": {
      "display_name": "Python 3",
      "name": "python3"
    },
    "language_info": {
      "name": "python"
    }
  },
  "nbformat": 4,
  "nbformat_minor": 0
}