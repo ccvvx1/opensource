{
  "cells": [
    {
      "cell_type": "code",
      "source": [
        "!git clone https://github.com/facefusion/facefusion"
      ],
      "metadata": {
        "id": "Bz2meOsv2r90"
      },
      "execution_count": null,
      "outputs": []
    },
    {
      "cell_type": "code",
      "source": [
        "!pip install virtualenv\n",
        "!virtualenv venv\n",
        "!cat /content/venv/bin/activate\n",
        "tmpAct = '/content/venv/bin/activate'\n",
        "!cp $tmpAct /content/venv/bin/activate1\n",
        "!cp $tmpAct /content/venv/bin/activate2\n",
        "!cp $tmpAct /content/venv/bin/activate3\n",
        "!cp $tmpAct /content/venv/bin/activate4\n",
        "!cp $tmpAct /content/venv/bin/activate5\n",
        "!cp $tmpAct /content/venv/bin/activate6\n",
        "!cp $tmpAct /content/venv/bin/activate7\n",
        "!cp $tmpAct /content/venv/bin/activate8\n",
        "!cp $tmpAct /content/venv/bin/activate9"
      ],
      "metadata": {
        "id": "7Cb3Um2v3IoU"
      },
      "execution_count": null,
      "outputs": []
    },
    {
      "cell_type": "code",
      "source": [
        "import os;\n",
        "os.environ['VIRTUAL_ENV'] = '/content/venv'\n",
        "os.environ['PATH'] = '/content/venv/bin:/opt/bin:/usr/local/nvidia/bin:/usr/local/cuda/bin:/usr/local/sbin:/usr/local/bin:/usr/sbin:/usr/bin:/sbin:/bin:/tools/node/bin:/tools/google-cloud-sdk/bin'\n",
        "os.environ['VIRTUAL_ENV_PROMPT'] = 'venv'\n",
        "os.environ['PS1'] = '(venv) '"
      ],
      "metadata": {
        "id": "n52Ax5mG3X-8"
      },
      "execution_count": 3,
      "outputs": []
    },
    {
      "cell_type": "code",
      "source": [
        "%cd facefusion\n",
        "!python install.py"
      ],
      "metadata": {
        "id": "uoOFKYxSURe0"
      },
      "execution_count": null,
      "outputs": []
    },
    {
      "cell_type": "code",
      "source": [
        "!curl -Lo /usr/bin/cloudflared https://github.com/cloudflare/cloudflared/releases/latest/download/cloudflared-linux-amd64 && chmod +x /usr/bin/cloudflared\n",
        ""
      ],
      "metadata": {
        "id": "dz1qFsDyDR5O"
      },
      "execution_count": null,
      "outputs": []
    },
    {
      "cell_type": "code",
      "source": [
        "!python run.py & cloudflared tunnel --url localhost:7860"
      ],
      "metadata": {
        "id": "hMh3XPeN9a26"
      },
      "execution_count": null,
      "outputs": []
    },
    {
      "cell_type": "code",
      "source": [
        "\n",
        "#Mount Google Drive as folder\n",
        "from google.colab import drive\n",
        "drive.mount('/content/drive')\n",
        "!du -sh /content/drive/MyDrive/"
      ],
      "metadata": {
        "id": "Q3nWZZeDKUYd"
      },
      "execution_count": null,
      "outputs": []
    },
    {
      "cell_type": "code",
      "source": [
        "!rm -rf /content/drive/MyDrive/output/*"
      ],
      "metadata": {
        "id": "TgrkTUEiKdzV"
      },
      "execution_count": 16,
      "outputs": []
    },
    {
      "cell_type": "code",
      "source": [
        "!zip -r -s 4000M /content/drive/MyDrive/output/facefusion.zip /content/facefusion /content/venv"
      ],
      "metadata": {
        "id": "-CxCnSfXKqyW"
      },
      "execution_count": null,
      "outputs": []
    },
    {
      "cell_type": "code",
      "source": [
        "!pip install ipykernel"
      ],
      "metadata": {
        "id": "M2dvpTShEJp8"
      },
      "execution_count": null,
      "outputs": []
    }
  ],
  "metadata": {
    "colab": {
      "name": "Welcome To Colaboratory",
      "provenance": [],
      "gpuType": "T4"
    },
    "kernelspec": {
      "display_name": "Python 3",
      "name": "python3"
    },
    "accelerator": "GPU"
  },
  "nbformat": 4,
  "nbformat_minor": 0
}