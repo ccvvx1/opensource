{
 "cells": [
  {
   "cell_type": "markdown",
   "metadata": {
    "id": "0cKdTCuv4tXh"
   },
   "source": [
    "\n",
    "\n"
   ]
  },
  {
   "cell_type": "markdown",
   "metadata": {
    "id": "IYtWMzOvLQ3s"
   },
   "source": [
    "## Prevent random disconnects\n",
    "\n",
    "This cell runs JS code to automatic reconnect to runtime."
   ]
  },
  {
   "cell_type": "code",
   "execution_count": null,
   "metadata": {
    "colab": {
     "base_uri": "https://localhost:8080/",
     "height": 34
    },
    "id": "jtClEMAMLVHw",
    "outputId": "7efa3a07-58c6-4154-de8d-8a07641d2fb4"
   },
   "outputs": [],
   "source": [
    "import IPython\n",
    "from google.colab import output\n",
    "\n",
    "display(IPython.display.Javascript('''\n",
    " function ClickConnect(){\n",
    "   btn = document.querySelector(\"colab-connect-button\")\n",
    "   if (btn != null){\n",
    "     console.log(\"Click colab-connect-button\"); \n",
    "     btn.click() \n",
    "     }\n",
    "   \n",
    "   btn = document.getElementById('ok')\n",
    "   if (btn != null){\n",
    "     console.log(\"Click reconnect\"); \n",
    "     btn.click() \n",
    "     }\n",
    "  }\n",
    "  \n",
    "setInterval(ClickConnect,60000)\n",
    "'''))\n",
    "\n",
    "print(\"Done.\")"
   ]
  },
  {
   "cell_type": "markdown",
   "metadata": {
    "id": "BDg_jiQ9adQe"
   },
   "source": [
    "## Check GPU\n",
    "\n",
    "*   Google Colab can provide you with one of Tesla graphics cards: K80, T4, P4 or P100\n",
    "*   Here you can check the model of GPU before using DeepFaceLab\n",
    "\n"
   ]
  },
  {
   "cell_type": "code",
   "execution_count": null,
   "metadata": {
    "colab": {
     "base_uri": "https://localhost:8080/"
    },
    "id": "WJe71S6gbzt3",
    "outputId": "144cd09a-a8f9-4646-e7aa-16aa7dc0bd05"
   },
   "outputs": [],
   "source": [
    "!nvidia-smi"
   ]
  },
  {
   "cell_type": "code",
   "execution_count": null,
   "metadata": {
    "colab": {
     "base_uri": "https://localhost:8080/"
    },
    "id": "1TjRYMUB-ErE",
    "outputId": "5192dada-2498-4c0c-ac6d-ffbcd03d93f7"
   },
   "outputs": [],
   "source": [
    "\n",
    "from google.colab import drive\n",
    " \n",
    "# This will prompt for authorization.\n",
    "drive.mount('/content/drive')"
   ]
  },
  {
   "cell_type": "markdown",
   "metadata": {
    "id": "JuVn21kt40Gw"
   },
   "source": []
  },
  {
   "cell_type": "code",
   "execution_count": null,
   "metadata": {
    "colab": {
     "base_uri": "https://localhost:8080/"
    },
    "id": "l32PJuR6o3cd",
    "outputId": "6b89266b-6ce1-4e56-c25b-e900cbd73994"
   },
   "outputs": [],
   "source": [
    "!unzip /content/drive/MyDrive/hello-master.zip -d /content/hello\n",
    "!mv /content/hello/DeepFaceLab-master/ /content/hello/hello/"
   ]
  },
  {
   "cell_type": "code",
   "execution_count": null,
   "metadata": {
    "colab": {
     "base_uri": "https://localhost:8080/"
    },
    "id": "FqmKYWlHcYRD",
    "outputId": "f82905a8-fd51-4125-88c3-4805b782b0d6"
   },
   "outputs": [],
   "source": [
    "#@title Install or update hello from Github\n",
    "\n",
    "Mode = \"install\" #@param [\"install\", \"update\"]\n",
    "Download_FFHQ = False #@param {type:\"boolean\"}\n",
    "\n",
    "\n",
    "from pathlib import Path\n",
    "if (Mode == \"install\"):\n",
    "\n",
    "  %cd \"/content/hello/hello\"\n",
    "  %cd \"/content\"\n",
    "\n",
    "  # fix linux warning\n",
    "  # /usr/lib/python3.6/multiprocessing/semaphore_tracker.py:143: UserWarning: semaphore_tracker: There appear to be 1 leaked semaphores to clean up at shutdown\n",
    "  fin = open(\"/usr/lib/python3.6/multiprocessing/semaphore_tracker.py\", \"rt\")\n",
    "  data = fin.read()\n",
    "  data = data.replace('if cache:', 'if False:')\n",
    "  fin.close()\n",
    "\n",
    "  fin = open(\"/usr/lib/python3.6/multiprocessing/semaphore_tracker.py\", \"wt\")\n",
    "  fin.write(data)\n",
    "  fin.close()\n",
    "else:\n",
    "  %cd /content/hello/hello\n",
    "  # !git pull\n",
    "\n",
    "#!pip uninstall -y tensorflow\n",
    "\n",
    "!pip install --upgrade scikit-image\n",
    "#!apt-get install cuda-10-0\n",
    "\n",
    "!pip install tqdm\n",
    "#!pip install numpy==1.19.3\n",
    "!pip install numexpr\n",
    "!pip install h5py==2.10.0\n",
    "!pip install opencv-python==4.1.0.25\n",
    "!pip install ffmpeg-python==0.1.17\n",
    "!pip install scikit-image==0.14.2\n",
    "!pip install scipy==1.4.1\n",
    "!pip install colorama\n",
    "!pip install tf2onnx==1.9.3"
   ]
  },
  {
   "cell_type": "code",
   "execution_count": null,
   "metadata": {
    "colab": {
     "base_uri": "https://localhost:8080/"
    },
    "id": "GbyUEkt5toHV",
    "outputId": "1096daaf-b535-462d-f802-0860c7d7e01d"
   },
   "outputs": [],
   "source": [
    "!unzip /content/drive/MyDrive/helloA.zip -d /content/p"
   ]
  },
  {
   "cell_type": "code",
   "execution_count": null,
   "metadata": {
    "colab": {
     "base_uri": "https://localhost:8080/",
     "height": 52
    },
    "id": "dMJ8BO3ruvsP",
    "outputId": "18032bea-b37d-4ad9-e1c5-dc9b8304b1be"
   },
   "outputs": [],
   "source": [
    "if not Path(\"/content/workspace\").exists():\n",
    "  !mkdir /content/workspace; mkdir /content/workspace/data_src; mkdir /content/workspace/data_src/aligned; mkdir /content/workspace/data_dst; mkdir /content/workspace/data_dst/aligned; mkdir /content/workspace/model  \n",
    "\n",
    "import IPython\n",
    "from google.colab import output\n",
    "display(IPython.display.Javascript('''\n",
    " function ClickConnect(){\n",
    "   btn = document.querySelector(\"colab-connect-button\")\n",
    "   if (btn != null){\n",
    "     console.log(\"Click colab-connect-button\"); \n",
    "     btn.click() \n",
    "     }\n",
    "   \n",
    "   btn = document.getElementById('ok')\n",
    "   if (btn != null){\n",
    "     console.log(\"Click reconnect\"); \n",
    "     btn.click() \n",
    "     }\n",
    "  }\n",
    "  \n",
    "setInterval(ClickConnect,20000)\n",
    "'''))\n",
    "\n",
    "print(\"\\nDone!\")"
   ]
  },
  {
   "cell_type": "code",
   "execution_count": null,
   "metadata": {
    "id": "JG-f2WqT4fLK"
   },
   "outputs": [],
   "source": [
    "\n",
    "\n",
    "if not Path(\"/content/pretrain\").exists():\n",
    "  print(\"Downloading Pretrain faceset ... \")\n",
    "  !wget -q --no-check-certificate -r $pretrain_link -O /content/pretrain_faceset.zip\n",
    "  !mkdir /content/pretrain\n",
    "  !unzip -q /content/pretrain_faceset.zip -d /content/pretrain/\n",
    "  !rm /content/pretrain_faceset.zip\n",
    "\n",
    "if not Path(\"/content/pretrain_Q96\").exists():\n",
    "  print(\"Downloading Q96 pretrained model ...\")\n",
    "  !wget -q --no-check-certificate -r 'https://github.com/chervonij/DFL-Colab/releases/download/Q96_model_pretrained/Q96_model_pretrained.zip' -O /content/pretrain_Q96.zip\n",
    "  !mkdir /content/pretrain_Q96\n",
    "  !unzip -q /content/pretrain_Q96.zip -d /content/pretrain_Q96/\n",
    "  !rm /content/pretrain_Q96.zip\n",
    "\n",
    "if not Path(\"/content/workspace\").exists():\n",
    "  !mkdir /content/workspace; mkdir /content/workspace/data_src; mkdir /content/workspace/data_src/aligned; mkdir /content/workspace/data_dst; mkdir /content/workspace/data_dst/aligned; mkdir /content/workspace/model  \n",
    "\n",
    "import IPython\n",
    "from google.colab import output\n",
    "\n",
    "display(IPython.display.Javascript('''\n",
    " function ClickConnect(){\n",
    "   btn = document.querySelector(\"colab-connect-button\")\n",
    "   if (btn != null){\n",
    "     console.log(\"Click colab-connect-button\"); \n",
    "     btn.click() \n",
    "     }\n",
    "   \n",
    "   btn = document.getElementById('ok')\n",
    "   if (btn != null){\n",
    "     console.log(\"Click reconnect\"); \n",
    "     btn.click() \n",
    "     }\n",
    "  }\n",
    "  \n",
    "setInterval(ClickConnect,60000)\n",
    "'''))\n",
    "\n",
    "print(\"\\nDone!\")"
   ]
  },
  {
   "cell_type": "markdown",
   "metadata": {
    "id": "hqwOlJG4MdLC"
   },
   "source": [
    "## Manage workspace\n",
    "\n",
    "\n",
    "\n",
    "*   You can import/export workspace or individual data, like model files with Google Drive\n",
    "*   Also, you can use HFS (HTTP Fileserver) for directly import/export you workspace from your computer\n",
    "*   You can clear all workspace or delete part of it\n",
    "\n"
   ]
  },
  {
   "cell_type": "code",
   "execution_count": null,
   "metadata": {
    "colab": {
     "base_uri": "https://localhost:8080/"
    },
    "id": "9d0mPskvwC4z",
    "outputId": "13f90c6d-4727-443f-b67d-ba39693bde84"
   },
   "outputs": [],
   "source": [
    "!unzip /content/drive/MyDrive/workspace.zip -d /content/workspace"
   ]
  },
  {
   "cell_type": "code",
   "execution_count": null,
   "metadata": {
    "id": "z4w_sUzgOQmL"
   },
   "outputs": [],
   "source": [
    "\n",
    "\n"
   ]
  },
  {
   "cell_type": "code",
   "execution_count": null,
   "metadata": {
    "id": "0Y3WfuwoNXqC"
   },
   "outputs": [],
   "source": [
    "\n"
   ]
  },
  {
   "cell_type": "code",
   "execution_count": null,
   "metadata": {
    "id": "0hIvJtxwTGcb"
   },
   "outputs": [],
   "source": []
  },
  {
   "cell_type": "code",
   "execution_count": null,
   "metadata": {
    "cellView": "form",
    "id": "7V1sc7rxNKLO"
   },
   "outputs": [],
   "source": [
    "#@title Export to URL\n",
    "URL = \"http://\" #@param {type:\"string\"}\n",
    "Mode = \"upload workspace\" #@param [\"upload workspace\", \"upload data_src\", \"upload data_dst\", \"upload data_src aligned\", \"upload data_dst aligned\", \"upload merged\", \"upload model\", \"upload result video\"]\n",
    "\n",
    "cmd_zip = \"zip -0 -r -q \"\n",
    "\n",
    "def run_cmd(zip_path, curl_url):\n",
    "  cmd_zip = \"zip -0 -r -q \"+zip_path\n",
    "  cmd_curl = \"curl --silent -F \"+curl_url+\" -D out.txt > /dev/null\"\n",
    "  !$cmd_zip\n",
    "  !$cmd_curl\n",
    "\n",
    "\n",
    "if Mode == \"upload workspace\":\n",
    "  %cd \"/content\"\n",
    "  run_cmd(\"workspace.zip workspace/\",\"'data=@/content/workspace.zip' \"+URL)\n",
    "elif Mode == \"upload data_src\":\n",
    "  %cd \"/content/workspace\"\n",
    "  run_cmd(\"data_src.zip data_src/\", \"'data=@/content/workspace/data_src.zip' \"+URL)\n",
    "elif Mode == \"upload data_dst\":\n",
    "  %cd \"/content/workspace\"\n",
    "  run_cmd(\"data_dst.zip data_dst/\", \"'data=@/content/workspace/data_dst.zip' \"+URL)\n",
    "elif Mode == \"upload data_src aligned\":\n",
    "  %cd \"/content/workspace\"\n",
    "  run_cmd(\"data_src_aligned.zip data_src/aligned\", \"'data=@/content/workspace/data_src_aligned.zip' \"+URL )\n",
    "elif Mode == \"upload data_dst aligned\":\n",
    "  %cd \"/content/workspace\"\n",
    "  run_cmd(\"data_dst_aligned.zip data_dst/aligned/\", \"'data=@/content/workspace/data_dst_aligned.zip' \"+URL)\n",
    "elif Mode == \"upload merged\":\n",
    "  %cd \"/content/workspace/data_dst\"\n",
    "  run_cmd(\"merged.zip merged/\",\"'data=@/content/workspace/data_dst/merged.zip' \"+URL )\n",
    "elif Mode == \"upload model\":\n",
    "  %cd \"/content/workspace\"\n",
    "  run_cmd(\"model.zip model/\", \"'data=@/content/workspace/model.zip' \"+URL)\n",
    "elif Mode == \"upload result video\":\n",
    "  %cd \"/content/workspace\"\n",
    "  run_cmd(\"result.zip result.mp4\", \"'data=@/content/workspace/result.zip' \"+URL)\n",
    "  \n",
    "  \n",
    "!rm *.zip\n",
    "\n",
    "%cd \"/content\"\n",
    "print(\"Done!\")"
   ]
  },
  {
   "cell_type": "code",
   "execution_count": null,
   "metadata": {
    "id": "Ta6ue_UGMkki"
   },
   "outputs": [],
   "source": []
  },
  {
   "cell_type": "markdown",
   "metadata": {
    "id": "tUNVcbujhm00"
   },
   "source": [
    "## Extract, sorting and faceset tools\n",
    "* Extract frames for SRC or DST video.\n",
    "* Denoise SRC or DST video. \"Factor\" param set intesity of denoising\n",
    "* Detect and align faces. If you need, you can get frames with debug landmarks.\n",
    "* Export workspace to Google Drive after extract and sort it manually (In \"Manage Workspace\" block)\n",
    "* You can enhance your facesets with DFL FacesetEnhancer.\n",
    "* Resize faceset to your model resolution. Since Colab doesn't have a powerful CPU, resizing samples during training increases iteration time. Faceset resize reduces iteration time by about 2x times. Don't forget to keep save original faceset on your PC.\n",
    "* Pack or unpack facesets with DFL packing tool.\n",
    "* Apply or remove trained XSeg model to the extracted faces.\n",
    "* Recommended for use, Generic XSeg model for auto segmentation.\n"
   ]
  },
  {
   "cell_type": "code",
   "execution_count": null,
   "metadata": {
    "colab": {
     "base_uri": "https://localhost:8080/"
    },
    "id": "qwJEbz5Nhot0",
    "outputId": "0af97514-fdf9-45e8-aea2-e1a86e3c0c40"
   },
   "outputs": [],
   "source": [
    "#@title Extract frames\n",
    "# !rm -rf /content/workspace/data_dst\n",
    "# !rm -rf /content/workspace/data_src\n",
    "Video = \"data_dst\" #@param [\"data_src\", \"data_dst\"]\n",
    "\n",
    "%cd \"/content\"\n",
    "\n",
    "cmd = \"hello/hello/main.py videoed extract-video\"\n",
    "\n",
    "if Video == \"data_dst\":\n",
    "  cmd+= \" --input-file workspace/data_dst.* --output-dir workspace/data_dst/\"\n",
    "else:\n",
    "  cmd+= \" --input-file workspace/data_src.* --output-dir workspace/data_src/\"\n",
    "  \n",
    "!python $cmd"
   ]
  },
  {
   "cell_type": "code",
   "execution_count": null,
   "metadata": {
    "colab": {
     "base_uri": "https://localhost:8080/"
    },
    "id": "bFmPo0s2lTil",
    "outputId": "ac73c048-47f3-4a43-8533-937241597bb2"
   },
   "outputs": [],
   "source": [
    "\n",
    "#@title Denoise frames\n",
    "Data = \"data_src\" #@param [\"data_src\", \"data_dst\"]\n",
    "Factor = 1 #@param {type:\"slider\", min:1, max:20, step:1}\n",
    "\n",
    "cmd = \"hello/hello/main.py videoed denoise-image-sequence --input-dir workspace/\"+Data+\" --factor \"+str(Factor)\n",
    "\n",
    "%cd \"/content\"\n",
    "!python $cmd"
   ]
  },
  {
   "cell_type": "code",
   "execution_count": null,
   "metadata": {
    "id": "p2kH9xs6Bm45"
   },
   "outputs": [],
   "source": [
    "!cp -rf /content/workspace /content/drive/MyDrive"
   ]
  },
  {
   "cell_type": "code",
   "execution_count": null,
   "metadata": {
    "colab": {
     "base_uri": "https://localhost:8080/"
    },
    "id": "nmq0Sj2bmq7d",
    "outputId": "93b28f61-05d3-45c0-ea7b-990c4d083ae5"
   },
   "outputs": [],
   "source": [
    "#@title Detect faces\n",
    "Data = \"data_src\" #@param [\"data_src\", \"data_dst\"]\n",
    "Detector = \"S3FD\" #@param [\"S3FD\", \"S3FD (whole face)\"]\n",
    "Debug = False #@param {type:\"boolean\"}\n",
    "\n",
    "detect_type = \"s3fd\"\n",
    "dbg = \" --output-debug\" if Debug else \" --no-output-debug\"\n",
    "\n",
    "folder = \"/content/drive/MyDrive/workspace/\"+Data\n",
    "folder_aligned = folder+\"/aligned\"\n",
    "\n",
    "cmd = \"hello/hello/main.py extract --input-dir \"+folder+\" --output-dir \"+folder_aligned\n",
    "cmd+=\" --detector \"+detect_type+\" --force-gpu-idxs 0\"+dbg\n",
    "\n",
    "if \"whole face\" in Detector:\n",
    "  cmd+=\" --face-type whole_face\" \n",
    "%cd \"/content\"\n",
    "!python $cmd"
   ]
  },
  {
   "cell_type": "code",
   "execution_count": null,
   "metadata": {
    "id": "TRNxUFE6p6Eu",
    "colab": {
     "base_uri": "https://localhost:8080/"
    },
    "outputId": "55e70464-dee3-4064-88d7-7e6e61ac57e7"
   },
   "outputs": [],
   "source": [
    "#@title Sort aligned\n",
    "Data = \"data_dst\" #@param [\"data_src\", \"data_dst\"]\n",
    "sort_type = \"hist\" #@param [\"blur\", \"motion-blur\", \"face-yaw\", \"face-pitch\", \"face-source-rect-size\", \"hist\", \"hist-dissim\", \"brightness\", \"hue\", \"black\", \"origname\", \"oneface\", \"final-by-blur\", \"final-by-size\", \"absdiff\"]\n",
    "\n",
    "cmd = \"hello/hello/main.py sort --input-dir /content/drive/MyDrive/workspace/\"+Data+\"/aligned --by \"+sort_type\n",
    "\n",
    "%cd \"/content\"\n",
    "!python $cmd"
   ]
  },
  {
   "cell_type": "code",
   "execution_count": null,
   "metadata": {
    "id": "O5MbnVDyXkP7",
    "colab": {
     "base_uri": "https://localhost:8080/"
    },
    "outputId": "3b04d04a-098c-4a74-8512-c136b706697c"
   },
   "outputs": [],
   "source": [
    "\n",
    "#@title Faceset Enhancer\n",
    "Data = \"data_src\" #@param [\"data_src\", \"data_dst\"]\n",
    "\n",
    "data_path = \"/content/drive/MyDrive/workspace/\"+Data+\"/aligned\"\n",
    "cmd = \"/content/hello/hello/main.py facesettool enhance --input-dir \"+data_path\n",
    "!python $cmd"
   ]
  },
  {
   "cell_type": "code",
   "source": [
    "#@title Faceset Enhancer\n",
    "Data = \"data_dst\" #@param [\"data_src\", \"data_dst\"]\n",
    "\n",
    "data_path = \"/content/drive/MyDrive/workspace/\"+Data+\"/aligned\"\n",
    "cmd = \"/content/hello/hello/main.py facesettool enhance --input-dir \"+data_path\n",
    "!python $cmd"
   ],
   "metadata": {
    "id": "fqzWwRhDFgw3"
   },
   "execution_count": null,
   "outputs": []
  },
  {
   "cell_type": "code",
   "execution_count": null,
   "metadata": {
    "id": "Hyg5SREuMx8Q",
    "colab": {
     "base_uri": "https://localhost:8080/"
    },
    "outputId": "558a357f-f19b-4ae7-a8d9-820211fde9b1"
   },
   "outputs": [],
   "source": [
    "#@title Resize faceset\n",
    "Data = \"data_src\" #@param [\"data_src\", \"data_dst\"]\n",
    "\n",
    "cmd = \"/content/hello/hello/main.py facesettool resize --input-dir /content/drive/MyDrive/workspace/\" + \\\n",
    "      f\"{Data}/aligned\"\n",
    "\n",
    "!python $cmd"
   ]
  },
  {
   "cell_type": "code",
   "source": [
    "#@title Resize faceset\n",
    "Data = \"data_dst\" #@param [\"data_src\", \"data_dst\"]\n",
    "\n",
    "cmd = \"/content/hello/hello/main.py facesettool resize --input-dir /content/drive/MyDrive/workspace/\" + \\\n",
    "      f\"{Data}/aligned\"\n",
    "\n",
    "!python $cmd"
   ],
   "metadata": {
    "id": "tK9jRh7IFlFw"
   },
   "execution_count": null,
   "outputs": []
  },
  {
   "cell_type": "code",
   "execution_count": null,
   "metadata": {
    "id": "ypLfPUNHZNEp"
   },
   "outputs": [],
   "source": [
    "#@title Pack/Unpack aligned faceset\n",
    "\n",
    "Folder = \"data_src\" #@param [\"data_src\", \"data_dst\"]\n",
    "Mode = \"unpack\" #@param [\"pack\", \"unpack\"]\n",
    "\n",
    "cmd = \"/content/hello/hello/main.py util --input-dir /content/drive/MyDrive/workspace/\" + \\\n",
    "      f\"{Folder}/aligned --{Mode}-faceset\"\n",
    "\n",
    "!python $cmd"
   ]
  },
  {
   "cell_type": "code",
   "source": [
    "#@title Pack/Unpack aligned faceset\n",
    "\n",
    "Folder = \"data_dst\" #@param [\"data_src\", \"data_dst\"]\n",
    "Mode = \"unpack\" #@param [\"pack\", \"unpack\"]\n",
    "\n",
    "cmd = \"/content/hello/hello/main.py util --input-dir /content/drive/MyDrive/workspace/\" + \\\n",
    "      f\"{Folder}/aligned --{Mode}-faceset\"\n"
   ],
   "metadata": {
    "id": "Ql0U7RTbF8sq"
   },
   "execution_count": null,
   "outputs": []
  },
  {
   "cell_type": "code",
   "execution_count": null,
   "metadata": {
    "id": "-VVvtoBMGnrA"
   },
   "outputs": [],
   "source": [
    "#@title Apply or remove XSeg mask to the faces\n",
    "Mode = \"Apply mask\" #@param [\"Apply mask\", \"Remove mask\"]\n",
    "Data = \"data_src\" #@param [\"data_src\", \"data_dst\"]\n",
    "GenericXSeg = True #@param {type:\"boolean\"}\n",
    "\n",
    "from pathlib import Path\n",
    "mode_arg = 'apply' if Mode == \"Apply mask\" else 'remove'\n",
    "\n",
    "if GenericXSeg and not Path('/content/GenericXSeg').exists():\n",
    "  print('Downloading Generic XSeg model ... ')\n",
    "  xseg_link = 'https://github.com/chervonij/DFL-Colab/releases/download/GenericXSeg/GenericXSeg.zip'\n",
    "  !mkdir /content/GenericXSeg\n",
    "  !wget -q --no-check-certificate -r $xseg_link -O /content/GenericXSeg.zip\n",
    "  !unzip -q /content/GenericXSeg.zip -d /content/GenericXSeg/\n",
    "  !rm /content/GenericXSeg.zip\n",
    "\n",
    "main_path = '/content/DeepFaceLab/main.py'\n",
    "data_path = f'/content/workspace/{Data}/aligned'\n",
    "model_path = '/content/workspace/model' if not GenericXSeg else '/content/GenericXSeg'\n",
    "\n",
    "cmd = f'{main_path} xseg {mode_arg} --input-dir {data_path} '\n",
    "cmd += f'--model-dir {model_path}' if mode_arg == 'apply' else ''\n",
    "\n",
    "!python $cmd"
   ]
  },
  {
   "cell_type": "markdown",
   "metadata": {
    "id": "WTuyUxgdLA13"
   },
   "source": [
    "## Train model\n",
    "\n",
    "* Choose your model type, but SAEHD is recommend for everyone\n",
    "* Set model options on output field\n",
    "* You can see preview manually, if go to model folder in filemanager and double click on preview.jpg file\n",
    "* Your workspace will be archived and upload to mounted Drive after 11 hours from start session\n",
    "* If you select \"Backup_every_hour\" option, your workspace will be backed up every hour.\n",
    "* Also, you can export your workspace manually in \"Manage workspace\" block\n",
    "* \"Silent_Start\" option provides to automatically start with best GPU and last used model. "
   ]
  },
  {
   "cell_type": "code",
   "execution_count": null,
   "metadata": {
    "id": "Z0Kya-PJLDhv",
    "colab": {
     "base_uri": "https://localhost:8080/"
    },
    "outputId": "0d8ba6f3-1924-4502-84f8-20fec9e988f4"
   },
   "outputs": [
    {
     "output_type": "stream",
     "name": "stdout",
     "text": [
      "/content\n",
      "Drive already mounted at /content/drive; to attempt to forcibly remount, call drive.mount(\"/content/drive\", force_remount=True).\n",
      "Archive exist!\n",
      "Time to end session: 11 hours\n",
      "Running trainer.\n",
      "\n",
      "[new] No saved models found. Enter a name of a new model : self_m\n",
      "self_m\n",
      "\n",
      "Model first run.\n",
      "Silent start: choosed device Tesla T4\n",
      "\n",
      "[0] Autobackup every N hour ( 0..24 ?:help ) : 0\n",
      "[n] Write preview history ( y/n ?:help ) : \n",
      "n\n",
      "[0] Target iteration : \n",
      "0\n",
      "[n] Flip SRC faces randomly ( y/n ?:help ) : \n",
      "n\n",
      "[y] Flip DST faces randomly ( y/n ?:help ) : \n",
      "y\n",
      "[8] Batch_size ( ?:help ) : \n",
      "8\n",
      "[128] Resolution ( 64-640 ?:help ) : \n",
      "128\n",
      "[f] Face type ( h/mf/f/wf/head ?:help ) : \n",
      "f\n",
      "[liae-ud] AE architecture ( ?:help ) : \n",
      "liae-ud\n",
      "[256] AutoEncoder dimensions ( 32-1024 ?:help ) : \n",
      "256\n",
      "[64] Encoder dimensions ( 16-256 ?:help ) : \n",
      "\n",
      "64\n",
      "[64] Decoder dimensions ( 16-256 ?:help ) : 64\n",
      "[22] Decoder mask dimensions ( 16-256 ?:help ) : \n",
      "22\n",
      "[n] Eyes and mouth priority ( y/n ?:help ) : \n",
      "n\n",
      "[n] Uniform yaw distribution of samples ( y/n ?:help ) : \n",
      "n\n",
      "[n] Blur out mask ( y/n ?:help ) : \n",
      "n\n",
      "[y] Place models and optimizer on GPU ( y/n ?:help ) : \n",
      "y\n",
      "[y] Use AdaBelief optimizer? ( y/n ?:help ) : \n",
      "y\n",
      "[n] Use learning rate dropout ( n/y/cpu ?:help ) : \n",
      "n\n",
      "[y] Enable random warp of samples ( y/n ?:help ) : \n",
      "y\n",
      "[0.0] Random hue/saturation/light intensity ( 0.0 .. 0.3 ?:help ) : \n",
      "0.0\n",
      "[0.0] GAN power ( 0.0 .. 5.0 ?:help ) : \n",
      "0.0\n",
      "[0.0] Face style power ( 0.0..100.0 ?:help ) : \n",
      "0.0\n",
      "[0.0] Background style power ( 0.0..100.0 ?:help ) : \n",
      "0.0\n",
      "[none] Color transfer for src faceset ( none/rct/lct/mkl/idt/sot ?:help ) : \n",
      "none\n",
      "[n] Enable gradient clipping ( y/n ?:help ) : \n",
      "n\n",
      "[n] Enable pretraining mode ( y/n ?:help ) : \n",
      "n\n",
      "\n",
      "\n",
      "\n",
      "Initializing models: 100% 5/5 [00:01<00:00,  4.01it/s]\n",
      "Loading samples:  46% 484/1048 [00:10<00:11, 48.20it/s]\n",
      "\n",
      "/!\\ FaceSamplesLoader: /content/drive/MyDrive/workspace/data_src/aligned/00485.jpg is not a dfl image file.\n",
      "Loading samples: 100% 1048/1048 [00:11<00:00, 87.72it/s]\n",
      "Loading samples:  45% 1565/3506 [00:08<00:10, 193.78it/s]"
     ]
    }
   ],
   "source": [
    "#@title Training\n",
    "Model = \"SAEHD\" #@param [\"SAEHD\", \"AMP\", \"Quick96\", \"XSeg\"]\n",
    "Backup_every_hour = True #@param {type:\"boolean\"}\n",
    "Silent_Start = True #@param {type:\"boolean\"}\n",
    "\n",
    "%cd \"/content\"\n",
    "\n",
    "#Mount Google Drive as folder\n",
    "from google.colab import drive\n",
    "drive.mount('/content/drive')\n",
    "\n",
    "import psutil, os, time\n",
    "\n",
    "p = psutil.Process(os.getpid())\n",
    "uptime = time.time() - p.create_time()\n",
    "\n",
    "if (Backup_every_hour):\n",
    "  if not os.path.exists('workspace.zip'):\n",
    "    print(\"Creating workspace archive ...\")\n",
    "    !zip -0 -r -q workspace.zip workspace\n",
    "    print(\"Archive created!\")\n",
    "  else:\n",
    "    print(\"Archive exist!\")\n",
    "\n",
    "if (Backup_every_hour):\n",
    "  print(\"Time to end session: \"+str(round((43200-uptime)/3600))+\" hours\")\n",
    "  backup_time = str(300)\n",
    "  backup_cmd = \" --execute-program -\"+backup_time+\" \\\"import os; os.system('zip -0 -r -q workspace.zip workspace/model'); os.system('cp /content/workspace.zip /content/drive/My\\ Drive/'); print('Backed up!') \\\"\" \n",
    "elif (round(39600-uptime) > 0):\n",
    "  print(\"Time to backup: \"+str(round((39600-uptime)/3600))+\" hours\")\n",
    "  backup_time = str(round(39600-uptime))\n",
    "  backup_cmd = \" --execute-program \"+backup_time+\" \\\"import os; os.system('zip -0 -r -q workspace.zip workspace'); os.system('cp /content/workspace.zip /content/drive/My\\ Drive/'); print('Backed up!') \\\"\" \n",
    "else:\n",
    "  print(\"Session expires in less than an hour.\")\n",
    "  backup_cmd = \"\"\n",
    "    \n",
    "cmd = \"hello/hello/main.py train --training-data-src-dir  /content/drive/MyDrive/workspace/data_src/aligned --training-data-dst-dir  /content/drive/MyDrive/workspace/data_dst/aligned --pretraining-data-dir pretrain --model-dir  /content/drive/MyDrive/workspace/model --model \"+Model\n",
    "\n",
    "if Model == \"Quick96\":\n",
    "  cmd+= \" --pretrained-model-dir pretrain_Q96\"\n",
    "\n",
    "if Silent_Start:\n",
    "  cmd+= \" --silent-start\"\n",
    "\n",
    "if (backup_cmd != \"\"):\n",
    "  train_cmd = (cmd+backup_cmd)\n",
    "else:\n",
    "  train_cmd = (cmd)\n",
    "\n",
    "!python $train_cmd"
   ]
  },
  {
   "cell_type": "markdown",
   "metadata": {
    "id": "avAcSL_uvtq_"
   },
   "source": [
    "## Merge frames"
   ]
  },
  {
   "cell_type": "code",
   "execution_count": null,
   "metadata": {
    "id": "A3Y8K22Sv9Gn"
   },
   "outputs": [],
   "source": [
    "#@title Merge\n",
    "Model = \"SAEHD\" #@param [\"SAEHD\", \"AMP\", \"Quick96\" ]\n",
    "\n",
    "cmd = \"hello/main.py merge --input-dir workspace/data_dst --output-dir workspace/data_dst/merged --output-mask-dir workspace/data_dst/merged_mask --aligned-dir workspace/data_dst/aligned --model-dir workspace/model --model \"+Model\n",
    "\n",
    "%cd \"/content\"\n",
    "!python $cmd"
   ]
  },
  {
   "cell_type": "code",
   "execution_count": null,
   "metadata": {
    "id": "JNeGfiZpxlnz"
   },
   "outputs": [],
   "source": [
    "#@title Get result video \n",
    "Mode = \"result video\" #@param [\"result video\", \"result_mask video\"]\n",
    "Copy_to_Drive = True #@param {type:\"boolean\"}\n",
    "\n",
    "\n",
    "if Mode == \"result video\":\n",
    "  !python DeepFaceLab/main.py videoed video-from-sequence --input-dir workspace/data_dst/merged --output-file workspace/result.mp4 --reference-file workspace/data_dst.mp4 --include-audio\n",
    "  if Copy_to_Drive:\n",
    "    !cp /content/workspace/result.mp4 /content/drive/My\\ Drive/\n",
    "elif Mode == \"result_mask video\":\n",
    "  !python DeepFaceLab/main.py videoed video-from-sequence --input-dir workspace/data_dst/merged_mask --output-file workspace/result_mask.mp4 --reference-file workspace/data_dst.mp4\n",
    "  if Copy_to_Drive:\n",
    "    !cp /content/workspace/result_mask.mp4 /content/drive/My\\ Drive/\n"
   ]
  }
 ],
 "metadata": {
  "accelerator": "GPU",
  "colab": {
   "collapsed_sections": [],
   "provenance": []
  },
  "kernelspec": {
   "display_name": "Python 3",
   "name": "python3"
  }
 },
 "nbformat": 4,
 "nbformat_minor": 0
}