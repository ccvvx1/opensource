{
  "nbformat": 4,
  "nbformat_minor": 0,
  "metadata": {
    "colab": {
      "provenance": [],
      "toc_visible": true
    },
    "kernelspec": {
      "name": "python3",
      "display_name": "Python 3"
    },
    "accelerator": "GPU"
  },
  "cells": [
    {
      "cell_type": "markdown",
      "metadata": {
        "id": "uKrprCrtGUYr"
      },
      "source": [
        "# BackgroundMattingV2 Image Matting Example\n",
        "\n",
        "This notebook demonstrates how to use our model for image matting. For more information about our project, please visit [our github repo](https://github.com/PeterL1n/BackgroundMattingV2)."
      ]
    },
    {
      "cell_type": "markdown",
      "metadata": {
        "id": "I5cZEZcvBXNP"
      },
      "source": [
        "## Prepare images\n",
        "\n",
        "You can upload your own images as `src.png` and `bgr.png` using the left panel.\n",
        "\n",
        "Or download our example images using the commands below. More example images are available at [Google Drive](https://drive.google.com/drive/folders/16H6Vz3294J-DEzauw06j4IUARRqYGgRD?usp=sharing)."
      ]
    },
    {
      "cell_type": "code",
      "metadata": {
        "id": "WoaMYSpRBRL6"
      },
      "source": [
        "!pip install gdown -q"
      ],
      "execution_count": null,
      "outputs": []
    },
    {
      "cell_type": "code",
      "metadata": {
        "id": "wmUi0Pl3B_at"
      },
      "source": [
        "!gdown https://drive.google.com/uc?id=1g_n7kzDppAA2BNwUfit0eVKXLHRVBOw- -O src.png -q\n",
        "!gdown https://drive.google.com/uc?id=1ywAx_GKGswFQjt3rWBLjdLtzjrjiOWpG -O bgr.png -q"
      ],
      "execution_count": null,
      "outputs": []
    },
    {
      "cell_type": "markdown",
      "metadata": {
        "id": "X6Wnql6VC9sr"
      },
      "source": [
        "## Matting"
      ]
    },
    {
      "cell_type": "markdown",
      "metadata": {
        "id": "e1cBVP7HFSJ-"
      },
      "source": [
        "Download our model file. All of our model files can be found at [Google Drive](https://github.com/PeterL1n/BackgroundMattingV2#model--weights). Below we download the `torchscript_resnet50_fp32.pth` weights. The file contains the model architecture and is ready for production use."
      ]
    },
    {
      "cell_type": "code",
      "metadata": {
        "id": "SSmExL90DB8l"
      },
      "source": [
        "!gdown https://drive.google.com/uc?id=1-t9SO--H4WmP7wUl1tVNNeDkq47hjbv4 -O model.pth -q"
      ],
      "execution_count": null,
      "outputs": []
    },
    {
      "cell_type": "code",
      "metadata": {
        "id": "Ui0l_llVDSnA"
      },
      "source": [
        "import torch\n",
        "from torchvision.transforms.functional import to_tensor, to_pil_image\n",
        "from PIL import Image"
      ],
      "execution_count": null,
      "outputs": []
    },
    {
      "cell_type": "code",
      "metadata": {
        "id": "9tj22oaADU9v"
      },
      "source": [
        "model = torch.jit.load('model.pth').cuda().eval()"
      ],
      "execution_count": null,
      "outputs": []
    },
    {
      "cell_type": "code",
      "metadata": {
        "id": "ek_zPsbcDYzl"
      },
      "source": [
        "src = Image.open('src.png')\n",
        "bgr = Image.open('bgr.png')"
      ],
      "execution_count": null,
      "outputs": []
    },
    {
      "cell_type": "code",
      "metadata": {
        "id": "dFv_fSg_Dkdi"
      },
      "source": [
        "src = to_tensor(src).cuda().unsqueeze(0)\n",
        "bgr = to_tensor(bgr).cuda().unsqueeze(0)"
      ],
      "execution_count": null,
      "outputs": []
    },
    {
      "cell_type": "code",
      "metadata": {
        "id": "ATZt8qcOEKe6"
      },
      "source": [
        "if src.size(2) <= 2048 and src.size(3) <= 2048:\n",
        "  model.backbone_scale = 1/4\n",
        "  model.refine_sample_pixels = 80_000\n",
        "else:\n",
        "  model.backbone_scale = 1/8\n",
        "  model.refine_sample_pixels = 320_000"
      ],
      "execution_count": null,
      "outputs": []
    },
    {
      "cell_type": "code",
      "metadata": {
        "id": "FwqCfEP7D1PQ"
      },
      "source": [
        "pha, fgr = model(src, bgr)[:2]"
      ],
      "execution_count": null,
      "outputs": []
    },
    {
      "cell_type": "code",
      "metadata": {
        "id": "0P3M_9CMEA0V"
      },
      "source": [
        "com = pha * fgr + (1 - pha) * torch.tensor([120/255, 255/255, 155/255], device='cuda').view(1, 3, 1, 1)"
      ],
      "execution_count": null,
      "outputs": []
    },
    {
      "cell_type": "code",
      "metadata": {
        "colab": {
          "base_uri": "https://localhost:8080/",
          "height": 1000
        },
        "id": "abHJTyQaFHn2",
        "outputId": "37f4fc12-041f-41af-b801-80b223542716"
      },
      "source": [
        "to_pil_image(com[0].cpu())"
      ],
      "execution_count": null,
      "outputs": []
    },
    {
      "cell_type": "code",
      "metadata": {
        "id": "rxPSRaiwFMnK"
      },
      "source": [
        "to_pil_image(pha[0].cpu()).save('pha.png')\n",
        "to_pil_image(fgr[0].cpu()).save('fgr.png')\n",
        "to_pil_image(com[0].cpu()).save('com.png')"
      ],
      "execution_count": null,
      "outputs": []
    }
  ]
}