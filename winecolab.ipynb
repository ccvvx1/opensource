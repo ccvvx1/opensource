{
  "nbformat": 4,
  "nbformat_minor": 0,
  "metadata": {
    "colab": {
      "name": "wine.ipynb",
      "provenance": [],
      "toc_visible": true
    },
    "kernelspec": {
      "name": "python3",
      "display_name": "Python 3"
    },
    "accelerator": "GPU"
  },
  "cells": [
    {
      "cell_type": "markdown",
      "metadata": {
        "id": "PAagFWqv2YeT"
      },
      "source": [
        "# Google Colab に Wineを導入\n",
        "\n",
        "## 1. 「Google Colab を GUI で利用する方法」を流用\n",
        "\n",
        "---\n",
        "\n",
        " ## 概要\n",
        " - 仮想ディスプレイ上で  X11 を起動し，noVNC を起動、anydeskによって遠隔利用(Option)\n",
        "\n",
        " ## 目的‘\n",
        " - ウィンドウ表示やマウス操作など，GUIを使う  python プログラムを動作させること．\n",
        "\n",
        " ## 利用方法\n",
        "1. 最後まで実行\n",
        "2. 最後にアクセス用URLとパスワードが表示されるのでブラウザでアクセス．\n",
        "3. コピペを使いたいならanydesk を手動で起動。アクセスIDをメモ\n",
        "4. アクセス用デバイスで anydesk を起動し，メモしたアクセスIDで接続\n",
        "\n",
        " ### 補足\n",
        "- '[**prepareWine.sh**](https://github.com/aquapathos/WineColab/blob/master/prepareWine.sh)\n",
        "\n",
        "に 必要な apt install , wget の手順のスクリプトを用意してあり、これを実行する\n",
        "\n",
        "---\n",
        "\n",
        "## 2. Wine\n",
        "- winecfgを起動。デフォルトではXpの設定となっている。現在なら10を選択するのが適当だが、古いアプリを動かすなら適当なバージョンのWindowsを選択\n",
        "- winetricks で必要なソフトを導入\n",
        "-- Visual Studio runtime や fonts など\n",
        "\n",
        "---\n",
        "という手順\n",
        "\n"
      ]
    },
    {
      "cell_type": "code",
      "metadata": {
        "id": "x1CFRjldr8Cc",
        "outputId": "ab1881b2-37f6-4172-dd24-088cf5415d7c",
        "colab": {
          "base_uri": "https://localhost:8080/",
          "height": 14960
        }
      },
      "source": [
        "# パス設定\n",
        "import os\n",
        "os.environ['PATH'] += \"/opt/TurboVNC/bin\"\n",
        "!mkdir -p /content/.vnc\n",
        "\n",
        "%cd /tmp\n",
        "!rm /tmp/prepareWine.sh\n",
        "!curl -fsSL -o prepareWine.sh https://raw.githubusercontent.com/aquapathos/WineColab/master/prepareWine.sh\n",
        "!chmod a+x  /tmp/prepareWine.sh\n",
        "!/tmp/prepareWine.sh\n"
      ],
      "execution_count": null,
      "outputs": []
    },
    {
      "cell_type": "markdown",
      "metadata": {
        "id": "Vpk2iqjEMbfu"
      },
      "source": []
    },
    {
      "cell_type": "code",
      "metadata": {
        "id": "sRk8eqZeuu4J"
      },
      "source": [
        "# import os\n",
        "# os.environ['PATH'] += \"/opt/TurboVNC/bin\"\n",
        "# !mkdir -p /content/.vnc"
      ],
      "execution_count": null,
      "outputs": []
    },
    {
      "cell_type": "markdown",
      "metadata": {
        "id": "Z3I__g46MOoa"
      },
      "source": [
        "# noVNC セッションの開始\n",
        "#@title"
      ]
    },
    {
      "cell_type": "code",
      "metadata": {
        "id": "7SwnsECweSJ_",
        "cellView": "both",
        "outputId": "deb3f443-e19e-4056-85e7-46931b73ac21",
        "colab": {
          "base_uri": "https://localhost:8080/",
          "height": 68
        }
      },
      "source": [
        "%cd /content\n",
        "!kill $(ps ax | grep websockify | grep -v grep | awk '{ print $1 }') >/dev/null\n",
        "!pkill ngrok\n",
        "!pkill vncserver\n",
        "!pkill Xvnc\n",
        "!pkill anydesk\n",
        "#!pkill Xvfb\n",
        "!pkill x11vnc\n",
        "\n",
        "## !timeout 5 /opt/websockify/run 5901 --web=/opt/noVNC --wrap-mode=ignore -- /opt/TurboVNC/bin/vncserver :1 -securitytypes otp -otp -noxstartup 2>/dev/null\n",
        "get_ipython().system_raw('/opt/websockify/run 5901 --web=/opt/noVNC --wrap-mode=ignore -- /opt/TurboVNC/bin/vncserver :1 -depth 24 -geometry 1600x900 -securitytypes otp -otp -noxstartup > /content/.vnc/stdout 2>&1 &')\n",
        "get_ipython().system_raw('/opt/ngrok http -config=/content/config.yml 5901 &')\n",
        "! sleep 1\n",
        "#get_ipython().system_raw('DISPLAY=:1 openbox &')\n",
        "! sleep 1\n",
        "get_ipython().system_raw('DISPLAY=:1 startxfce4 &')\n",
        "! sleep 1\n",
        "# get_ipython().system_raw('DISPLAY=:1 jupyter notebook &')\n",
        "# ! sleep 2\n",
        "# get_ipython().system_raw('DISPLAY=:1 epiphany http://localhost:8888 &')\n",
        "# ! sleep 1\n",
        "get_ipython().system_raw('DISPLAY=:1 xfce4-terminal &')\n",
        "! sleep 1\n",
        "# get_ipython().system_raw('DISPLAY=:1 anydesk &')\n",
        "# ! sleep 1\n",
        "# get_ipython().system_raw('DISPLAY=:1 winetricks vcrun2015  &')\n",
        "# ! sleep 1\n",
        "\n",
        "!grep \"one-time password:\" /content/.vnc/stdout\n",
        "\n",
        "import requests\n",
        "import json\n",
        "r = requests.get(\"http://localhost:4045/api/tunnels\", headers={\"content-type\": \"application/json\"})\n",
        "print(r.json()['tunnels'][0]['public_url'])"
      ],
      "execution_count": null,
      "outputs": [
        {
          "output_type": "stream",
          "text": [
            "/content\n",
            "Full control one-time password: 40341286\n",
            "https://3dacc95f.ngrok.io\n"
          ],
          "name": "stdout"
        }
      ]
    },
    {
      "cell_type": "markdown",
      "metadata": {
        "id": "MKgXoOiFOXtC"
      },
      "source": [
        "# テストプログラム"
      ]
    },
    {
      "cell_type": "code",
      "metadata": {
        "id": "fanS55PiCAoq"
      },
      "source": [
        "#!curl -fsSL -O https://gist.githubusercontent.com/aquapathos/94ab03a7e84a58695289c5b9a70110fa/raw/d3bfc29bd02cb276c401ee966a319b3a18749b97/l0041-color_som-1.ipynb"
      ],
      "execution_count": null,
      "outputs": []
    },
    {
      "cell_type": "code",
      "metadata": {
        "id": "jNDAIU5uOcaD"
      },
      "source": [
        "#!curl -fsSL -O https://gist.githubusercontent.com/aquapathos/e7bb81a3bdd1a97f9337df4bc493a15a/raw/67cee05076de1552bb5bcce315e4dd503b06ba0a/Fake+Painter.ipynb"
      ],
      "execution_count": null,
      "outputs": []
    },
    {
      "cell_type": "code",
      "metadata": {
        "id": "tMSxDCl72K2t"
      },
      "source": [
        "# get_ipython().system_raw('DISPLAY=:1 startxfce4 &')"
      ],
      "execution_count": null,
      "outputs": []
    },
    {
      "cell_type": "code",
      "metadata": {
        "id": "SISdEejk2Lab"
      },
      "source": [
        "# get_ipython().system_raw('DISPLAY=:1 openbox &')"
      ],
      "execution_count": null,
      "outputs": []
    },
    {
      "cell_type": "code",
      "metadata": {
        "id": "zTsL7FFKi5nJ"
      },
      "source": [
        "#get_ipython().system_raw('DISPLAY=:1 xfce4-terminal &')"
      ],
      "execution_count": null,
      "outputs": []
    },
    {
      "cell_type": "code",
      "metadata": {
        "id": "bVPbkPVC4_N4"
      },
      "source": [
        "#get_ipython().system_raw('DISPLAY=:1 winetricks vcrun2015  &')"
      ],
      "execution_count": null,
      "outputs": []
    },
    {
      "cell_type": "code",
      "metadata": {
        "id": "vhIXfmnCDxqI"
      },
      "source": [],
      "execution_count": null,
      "outputs": []
    },
    {
      "cell_type": "code",
      "metadata": {
        "id": "D5FelJEdWQyh"
      },
      "source": [],
      "execution_count": null,
      "outputs": []
    }
  ]
}