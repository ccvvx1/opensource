{
  "nbformat": 4,
  "nbformat_minor": 0,
  "metadata": {
    "colab": {
      "provenance": [],
      "collapsed_sections": [
        "6BPxh_VmVVIu"
      ]
    },
    "kernelspec": {
      "name": "python3",
      "display_name": "Python 3"
    },
    "language_info": {
      "name": "python"
    },
    "accelerator": "GPU"
  },
  "cells": [
    {
      "cell_type": "markdown",
      "metadata": {
        "id": "IRDbDYYMQt_Y"
      },
      "source": [
        "# Real-ESRGAN Inference Demo\n",
        "\n",
        "[![arXiv](https://img.shields.io/badge/arXiv-Paper-<COLOR>.svg)](https://arxiv.org/abs/2107.10833)\n",
        "[![GitHub Stars](https://img.shields.io/github/stars/xinntao/Real-ESRGAN?style=social)](https://github.com/xinntao/Real-ESRGAN)\n",
        "[![download](https://img.shields.io/github/downloads/xinntao/Real-ESRGAN/total.svg)](https://github.com/xinntao/Real-ESRGAN/releases)\n",
        "\n",
        "This is a **Practical Image Restoration Demo** of our paper [''Real-ESRGAN: Training Real-World Blind Super-Resolution with Pure Synthetic Data''](https://arxiv.org/abs/2107.10833).\n",
        "We extend the powerful ESRGAN to a practical restoration application (namely, Real-ESRGAN), which is trained with pure synthetic data. <br>\n",
        "The following figure shows some real-life examples.\n",
        "\n",
        "\n",
        "We provide a pretrained model (*RealESRGAN_x4plus.pth*) with upsampling X4.<br>\n",
        "**Note that RealESRGAN may still fail in some cases as the real-world degradations are really too complex.**<br>\n",
        "Moreover, it **may not** perform well on **human faces, text**, *etc*, which will be optimized later.\n",
        "<br>\n",
        "\n",
        "You can also find a **Portable Windows/Linux/MacOS executable files for Intel/AMD/Nvidia GPU.** in our [GitHub repo](https://github.com/xinntao/Real-ESRGAN). <br>\n",
        "This executable file is **portable** and includes all the binaries and models required. No CUDA or PyTorch environment is needed.<br>\n",
        "This executable file is based on the wonderful [Tencent/ncnn](https://github.com/Tencent/ncnn)."
      ]
    },
    {
      "cell_type": "markdown",
      "metadata": {
        "id": "6BPxh_VmVVIu"
      },
      "source": [
        "# 1. Preparations\n",
        "Before start, make sure that you choose\n",
        "* Runtime Type = Python 3\n",
        "* Hardware Accelerator = GPU\n",
        "\n",
        "in the **Runtime** menu -> **Change runtime type**\n",
        "\n",
        "Then, we clone the repository, set up the envrironment."
      ]
    },
    {
      "cell_type": "code",
      "metadata": {
        "id": "GnpnrLfMV2jU",
        "colab": {
          "base_uri": "https://localhost:8080/"
        },
        "outputId": "a8eebdf3-ee83-4676-aa3a-d627e1bd48a2"
      },
      "source": [
        "# Clone Real-ESRGAN and enter the Real-ESRGAN\n",
        "!git clone https://github.com/xinntao/Real-ESRGAN.git\n",
        "%cd Real-ESRGAN\n",
        "# Set up the environment\n",
        "!pip install basicsr\n",
        "!pip install facexlib\n",
        "!pip install gfpgan\n",
        "!pip install -r requirements.txt\n",
        "!python setup.py develop"
      ],
      "execution_count": null,
      "outputs":[]
    },
    {
      "cell_type": "markdown",
      "metadata": {
        "id": "4pr9am3HWtvH"
      },
      "source": [
        "# 2. Upload Images\n",
        "\n",
        "Upload the images to be processed by Real-ESRGAN"
      ]
    },
    {
      "cell_type": "code",
      "metadata": {
        "colab": {
          "base_uri": "https://localhost:8080/",
          "height": 199
        },
        "id": "u1tiyMZJW5td",
        "outputId": "945c4b35-53c6-4334-9d32-c0c067e584e7"
      },
      "source": [
        "import os\n",
        "from google.colab import files\n",
        "import shutil\n",
        "\n",
        "upload_folder = 'upload'\n",
        "result_folder = 'results'\n",
        "\n",
        "if os.path.isdir(upload_folder):\n",
        "    shutil.rmtree(upload_folder)\n",
        "if os.path.isdir(result_folder):\n",
        "    shutil.rmtree(result_folder)\n",
        "os.mkdir(upload_folder)\n",
        "os.mkdir(result_folder)\n",
        "\n",
        "# upload images\n",
        "uploaded = files.upload()\n",
        "for filename in uploaded.keys():\n",
        "  dst_path = os.path.join(upload_folder, filename)\n",
        "  print(f'move {filename} to {dst_path}')\n",
        "  shutil.move(filename, dst_path)"
      ],
      "execution_count": null,
      "outputs":[]
    },
    {
      "cell_type": "markdown",
      "metadata": {
        "id": "rqiEtaOYXnrt"
      },
      "source": [
        "# 3. Inference\n"
      ]
    },
    {
      "cell_type": "code",
      "metadata": {
        "colab": {
          "base_uri": "https://localhost:8080/"
        },
        "id": "XTVL4m_zXqBU",
        "outputId": "685500bf-a3f0-49b7-95f4-106cdc8fd735"
      },
      "source": [
        "# if it is out of memory, try to use the `--tile` option\n",
        "# We upsample the image with the scale factor X3.5\n",
        "!python inference_realesrgan.py -n RealESRGAN_x4plus -i upload --outscale 3.5 --face_enhance\n",
        "# Arguments\n",
        "# -n, --model_name: Model names\n",
        "# -i, --input: input folder or image\n",
        "# --outscale: Output scale, can be arbitrary scale factore."
      ],
      "execution_count": null,
      "outputs":[]
    },
    {
      "cell_type": "markdown",
      "metadata": {
        "id": "dUJ_0fQ5YYm2"
      },
      "source": [
        "# 4. Visualization"
      ]
    },
    {
      "cell_type": "code",
      "metadata": {
        "id": "7IMD5vhOYp68",
        "colab": {
          "base_uri": "https://localhost:8080/",
          "height": 1000
        },
        "outputId": "12d0d896-7e29-4f0c-a29e-6c8690fe4524"
      },
      "source": [
        "# utils for visualization\n",
        "import cv2\n",
        "import matplotlib.pyplot as plt\n",
        "def display(img1, img2):\n",
        "  fig = plt.figure(figsize=(25, 10))\n",
        "  ax1 = fig.add_subplot(1, 2, 1)\n",
        "  plt.title('Input image', fontsize=16)\n",
        "  ax1.axis('off')\n",
        "  ax2 = fig.add_subplot(1, 2, 2)\n",
        "  plt.title('Real-ESRGAN output', fontsize=16)\n",
        "  ax2.axis('off')\n",
        "  ax1.imshow(img1)\n",
        "  ax2.imshow(img2)\n",
        "def imread(img_path):\n",
        "  img = cv2.imread(img_path)\n",
        "  img = cv2.cvtColor(img, cv2.COLOR_BGR2RGB)\n",
        "  return img\n",
        "\n",
        "# display each image in the upload folder\n",
        "import os\n",
        "import glob\n",
        "\n",
        "input_folder = 'upload'\n",
        "result_folder = 'results'\n",
        "input_list = sorted(glob.glob(os.path.join(input_folder, '*')))\n",
        "output_list = sorted(glob.glob(os.path.join(result_folder, '*')))\n",
        "for input_path, output_path in zip(input_list, output_list):\n",
        "  img_input = imread(input_path)\n",
        "  img_output = imread(output_path)\n",
        "  display(img_input, img_output)"
      ],
      "execution_count": null,
      "outputs":[]
    },
    {
      "cell_type": "markdown",
      "metadata": {
        "id": "nKH0syu9ZAwV"
      },
      "source": [
        "# 5. Download Results\n"
      ]
    },
    {
      "cell_type": "code",
      "metadata": {
        "colab": {
          "base_uri": "https://localhost:8080/",
          "height": 17
        },
        "id": "lHNHoP8PZJQ7",
        "outputId": "361d2f64-a315-47e8-b453-c9e9bd575225"
      },
      "source": [
        "# Download the results\n",
        "zip_filename = 'Real-ESRGAN_result.zip'\n",
        "if os.path.exists(zip_filename):\n",
        "  os.remove(zip_filename)\n",
        "os.system(f\"zip -r -j {zip_filename} results/*\")\n",
        "files.download(zip_filename)"
      ],
      "execution_count": null,
      "outputs":[]
    }
  ]
}