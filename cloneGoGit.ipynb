{
  "cells": [
    {
      "cell_type": "code",
      "source": [
        "!ssh-keygen -t rsa -b 4096 -C \"694497013@qq.com\"\n",
        "!ssh-keyscan -t rsa github.com >> /root/.ssh/known_hosts\n",
        "!ssh-keyscan -t rsa gitee.com >> /root/.ssh/known_hosts"
      ],
      "metadata": {
        "id": "OD50J5o_HLlf",
        "outputId": "3b26c1f5-36e3-4e0a-efa6-b243d6481a22",
        "colab": {
          "base_uri": "https://localhost:8080/"
        }
      },
      "execution_count": 1,
      "outputs": []
    },
    {
      "cell_type": "code",
      "source": [
        "!cat /root/.ssh/id_rsa.pub"
      ],
      "metadata": {
        "id": "OD50J5o_HLlf",
        "outputId": "3b26c1f5-36e3-4e0a-efa6-b243d6481a22",
        "colab": {
          "base_uri": "https://localhost:8080/"
        }
      },
      "execution_count": 1,
      "outputs": []
    },
    {
      "cell_type": "code",
      "source": [
        "!git clone git@github.com:ccvvx1/go-test-new-part1.git\n",
        "#!git submodule set-url ftReady git@gitee.com:tanmwin/go-test-new-part2.git\n",
        "#!git submodule update --remote\n",
        "%cd /content/go-test-new-part1/ftReady\n",
        "!rm -rf *\n",
        "!rm -rf .git\n",
        "!rm -rf .gitignore\n",
        "!git init\n",
        "!git remote add origin git@github.com:ccvvx1/go-test-new-part2.git\n",
        "!git pull origin master\n",
        "%cd /content/go-test-new-part1"
      ],
      "metadata": {
        "id": "A9lUN1V0L0OR",
        "outputId": "6b9fa42e-861c-4656-9efd-a4854c386985",
        "colab": {
          "base_uri": "https://localhost:8080/"
        }
      },
      "execution_count": 14,
      "outputs": []
    },
    {
      "cell_type": "code",
      "source": [
        "!wget https://go.dev/dl/go1.20.7.linux-amd64.tar.gz\n",
        "!mkdir /content/go\n",
        "!tar zxvf go1.20.7.linux-amd64.tar.gz -C /content/go\n",
        "!ln -sf /content/go/go/bin/go /usr/local/bin/go\n",
        "!go env -w GO111MODULE=auto\n",
        "!go get github.com/PuerkitoBio/goquery\n",
        "!go get github.com/dgrijalva/jwt-go\n",
        "!go get github.com/garyburd/redigo/redis\n",
        "!go get github.com/go-sql-driver/mysql\n",
        "!go get github.com/gohouse/gorose\n",
        "!go get github.com/json-iterator/go\n",
        "!go get github.com/mattn/go-sqlite3\n",
        "!go get github.com/mohae/deepcopy\n",
        "!go get github.com/r3labs/sse\n",
        "!go get github.com/richardlehane/mscfb\n",
        "!go get github.com/tealeg/xlsx\n",
        "!go get github.com/xuri/efp\n",
        "!go get github.com/xuri/excelize\n",
        "!go get github.com/yuin/gopher-lua\n",
        "!go get gonum.org/v1/gonum/stat\n",
        "!go get google.golang.org/grpc\n",
        "!go get gopkg.in/yaml.v3\n",
        "!go get go.mongodb.org/mongo-driver/bson\n",
        "!apt install rar\n",
        "!go build -o createScript.out"
      ],
      "metadata": {
        "id": "A9lUN1V0L0OR",
        "outputId": "6b9fa42e-861c-4656-9efd-a4854c386985",
        "colab": {
          "base_uri": "https://localhost:8080/"
        }
      },
      "execution_count": 14,
      "outputs": []
    },
    {
      "cell_type": "code",
      "source": [
        "%cd /content/go-test-new-part1\n",
        "!./createScript.out ft --u 1\n",
        "!./createScript.out ft --d 1\n",
        "!./createScript.out ft --v 1\n",
        "!./createScript.out ft --z 1\n",
        "%cd /content/go-test-new-part1/ftReady\n",
        "!git add *.rar\n",
        "git config --global user.name \"tmwLab\"\n",
        "git config --global user.email \"694497013@qq.com\"\n",
        "!git commit -m \"1\"\n",
        "!git push origin master\n",
        "!cp createScript.out /content/drive/\n",
        "%cd /content/go-test-new-part1/"
      ],
      "metadata": {
        "id": "dTVLXtkPTIaO",
        "outputId": "ef06af11-85c3-4878-d4b8-d1ea8ff53e7a",
        "colab": {
          "base_uri": "https://localhost:8080/"
        }
      },
      "execution_count": 16,
      "outputs": []
    },
    {
      "cell_type": "code",
      "source": [
        "#Mount Google Drive as folder\n",
        "from google.colab import drive\n",
        "drive.mount('/content/drive')\n",
        "!mkdir -p /content/go-test-new-part1/\n",
        "!cp /content/drive/createScript.out /content/go-test-new-part1/\n",
        "%cd /content/go-test-new-part1/"
      ],
      "metadata": {
        "id": "dTVLXtkPTIaO",
        "outputId": "ef06af11-85c3-4878-d4b8-d1ea8ff53e7a",
        "colab": {
          "base_uri": "https://localhost:8080/"
        }
      },
      "execution_count": 16,
      "outputs": []
    }
  ],
  "metadata": {
    "colab": {
      "name": "Welcome To Colaboratory",
      "provenance": []
    },
    "kernelspec": {
      "display_name": "Python 3",
      "name": "python3"
    }
  },
  "nbformat": 4,
  "nbformat_minor": 0
}