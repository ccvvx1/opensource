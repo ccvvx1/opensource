{
  "cells": [
    {
      "cell_type": "code",
      "source": [
        "!ssh-keygen -t rsa -b 4096 -C \"694497013@qq.com\"\n",
        "!ssh-keyscan -t rsa github.com >> /root/.ssh/known_hosts\n",
        "!ssh-keyscan -t rsa gitee.com >> /root/.ssh/known_hosts"
      ],
      "metadata": {
        "id": "OD50J5o_HLlf",
        "outputId": "3b26c1f5-36e3-4e0a-efa6-b243d6481a22",
        "colab": {
          "base_uri": "https://localhost:8080/"
        }
      },
      "execution_count": 1,
      "outputs": []
    },
    {
      "cell_type": "code",
      "source": [
        "!cat /root/.ssh/id_rsa.pub"
      ],
      "metadata": {
        "id": "OD50J5o_HLlf",
        "outputId": "3b26c1f5-36e3-4e0a-efa6-b243d6481a22",
        "colab": {
          "base_uri": "https://localhost:8080/"
        }
      },
      "execution_count": 1,
      "outputs": []
    },
    {
      "cell_type": "code",
      "source": [
        "!git clone git@github.com:ccvvx1/go-test-new-part1.git\n",
        "#!git submodule set-url ftReady git@gitee.com:tanmwin/go-test-new-part2.git\n",
        "#!git submodule update --remote\n",
        "%cd /content/go-test-new-part1/ftReady\n",
        "!rm -rf *\n",
        "!rm -rf .git\n",
        "!rm -rf .gitignore\n",
        "!git init\n",
        "!git remote add origin git@github.com:ccvvx1/go-test-new-part2.git\n",
        "!git pull origin master\n",
        "%cd /content/go-test-new-part1/vipdoc\n",
        "!rm -rf *\n",
        "!rm -rf .git\n",
        "!rm -rf .gitignore\n",
        "!git init\n",
        "!git remote add origin git@github.com:ccvvx1/go-test-new-part3.git\n",
        "!git pull origin master\n",
        "%cd /content/go-test-new-part1"
      ],
      "metadata": {
        "id": "A9lUN1V0L0OR",
        "outputId": "6b9fa42e-861c-4656-9efd-a4854c386985",
        "colab": {
          "base_uri": "https://localhost:8080/"
        }
      },
      "execution_count": 14,
      "outputs": []
    },
    {
      "cell_type": "code",
      "source": [
        "%cd /content\n",
        "!git clone git@github.com:ccvvx1/rust-createScript.git\n",
        "!mv rust-createScript createScriptRust\n",
        "!curl --proto '=https' --tlsv1.2 https://sh.rustup.rs -o install.sh\n",
        "!sh install.sh -y \n",
        "!ln -sf $HOME/.cargo/bin/cargo /usr/local/bin/cargo\n",
        "%cd createScriptRust\n",
        "!cp Cargo_tmp.toml Cargo.toml\n",
        "!cargo run --release\n",
        "!apt-get install -y nodejs\n",
        "!apt-get install -y npm\n",
        "!npm install -g http-server\n",
        "!curl -Ls https://github.com/ekzhang/bore/releases/download/v0.4.0/bore-v0.4.0-x86_64-unknown-linux-musl.tar.gz | tar zx -C /usr/bin\n",
        "!curl -Lo /usr/bin/cloudflared https://github.com/cloudflare/cloudflared/releases/latest/download/cloudflared-linux-amd64 && chmod +x /usr/bin/cloudflared\n",
        "!cp ./target/release/createScriptRust  ./createScriptRust.out"
      ],
      "metadata": {
        "id": "A9lUN1V0L0OR",
        "outputId": "6b9fa42e-861c-4656-9efd-a4854c386985",
        "colab": {
          "base_uri": "https://localhost:8080/"
        }
      },
      "execution_count": 14,
      "outputs": []
    },
    {
      "cell_type": "code",
      "source": [
        "%cd /content/createScriptRust\n",
        "!cp -rf /content/createScriptRust/createScriptRustLib/src /content/createScriptRust/createScriptRustLibDll/\n",
        "!cp Cargo_jni.toml Cargo.toml\n",
        "# !sed -i 's/crate-type = \['\''cdylib'\''\]/#crate-type = \['\''cdylib'\''\]/' ./createScriptRustLibDll/Cargo.toml\n",
        "# !sed -i 's/Java_pers_metaworm_RustJNI_init/Java_pers_metaworm_RustJNI_init1/g' ./createScriptRustLibDll/src/lib.rs\n",
        "!cargo build --release\n",
        "!pwd\n",
        "!cp -rf /content/createScriptRust/target/release/libcreateScriptRustLibDll.so  /content/createScriptRust/Java/\n",
        "%cd /content/createScriptRust/Java\n",
        "# !gcc -shared -o createScriptRustLibDll.so -I/usr/lib/jvm/java-11-openjdk-amd64/include -I/usr/lib/jvm/java-11-openjdk-amd64/include/linux createScriptRustLibDll.c libcreateScriptRustLibDll.rlib\n",
        "!cp ./libcreateScriptRustLibDll.so /usr/lib/libcreateScriptRustLibDll.so\n",
        "!javac pers/metaworm/RustJNI.java\n",
        "!java pers/metaworm/RustJNI doc --k chatgpt\n",
        "%cd /content/createScriptRust"
      ],
      "metadata": {
        "id": "A9lUN1V0L0OR",
        "outputId": "6b9fa42e-861c-4656-9efd-a4854c386985",
        "colab": {
          "base_uri": "https://localhost:8080/"
        }
      },
      "execution_count": 14,
      "outputs": []
    },
    {
      "cell_type": "code",
      "source": [
        "!cp Cargo_real.toml Cargo.toml\n",
        "!cargo build --release\n",
        "!npm i\n",
        "!npm run tauri:serve"
        "!bore local 8081 --to bore.pub & cloudflared tunnel --url localhost:8081"
      ],
      "metadata": {
        "id": "A9lUN1V0L0OR",
        "outputId": "6b9fa42e-861c-4656-9efd-a4854c386985",
        "colab": {
          "base_uri": "https://localhost:8080/"
        }
      },
      "execution_count": 14,
      "outputs": []
    },
    {
      "cell_type": "code",
      "source": [
        "!./createScriptRust.out doc --k chatgpt\n",
        "!http-server -p 6969 & bore local 6969 --to bore.pub & cloudflared tunnel --url localhost:6969"
      ],
      "metadata": {
        "id": "A9lUN1V0L0OR",
        "outputId": "6b9fa42e-861c-4656-9efd-a4854c386985",
        "colab": {
          "base_uri": "https://localhost:8080/"
        }
      },
      "execution_count": 14,
      "outputs": []
    },
    {
      "cell_type": "code",
      "source": [
        "!cp /content/createScriptRust/createScriptRustLib/src/create_embedded_asset.txt /content/createScriptRust/createScriptRustLib/src/create_embedded_asset.rs\n",
        "!cargo run --release\n",
        "!cp ./target/release/createScriptRust ./createScriptRust.out"
      ],
      "metadata": {
        "id": "A9lUN1V0L0OR",
        "outputId": "6b9fa42e-861c-4656-9efd-a4854c386985",
        "colab": {
          "base_uri": "https://localhost:8080/"
        }
      },
      "execution_count": 14,
      "outputs": []
    },
    {
      "cell_type": "code",
      "source": [
        "!wget https://go.dev/dl/go1.20.7.linux-amd64.tar.gz\n",
        "!mkdir /content/go\n",
        "!tar zxvf go1.20.7.linux-amd64.tar.gz -C /content/go\n",
        "!ln -sf /content/go/go/bin/go /usr/local/bin/go\n",
        "!go env -w GO111MODULE=auto\n",
        "!go get github.com/PuerkitoBio/goquery\n",
        "!go get github.com/dgrijalva/jwt-go\n",
        "!go get github.com/garyburd/redigo/redis\n",
        "!go get github.com/go-sql-driver/mysql\n",
        "!go get github.com/gohouse/gorose\n",
        "!go get github.com/json-iterator/go\n",
        "!go get github.com/mattn/go-sqlite3\n",
        "!go get github.com/mohae/deepcopy\n",
        "!go get github.com/r3labs/sse\n",
        "!go get github.com/richardlehane/mscfb\n",
        "!go get github.com/tealeg/xlsx\n",
        "!go get github.com/xuri/efp\n",
        "!go get github.com/xuri/excelize\n",
        "!go get github.com/yuin/gopher-lua\n",
        "!go get gonum.org/v1/gonum/stat\n",
        "!go get google.golang.org/grpc\n",
        "!go get gopkg.in/yaml.v3\n",
        "!go get go.mongodb.org/mongo-driver/bson\n",
        "!apt install rar\n",
        "!apt-get install -y nodejs\n",
        "!apt-get install -y npm\n",
        "!npm install -g http-server\n",
        "!curl -Ls https://github.com/ekzhang/bore/releases/download/v0.4.0/bore-v0.4.0-x86_64-unknown-linux-musl.tar.gz | tar zx -C /usr/bin\n",
        "!curl -Lo /usr/bin/cloudflared https://github.com/cloudflare/cloudflared/releases/latest/download/cloudflared-linux-amd64 && chmod +x /usr/bin/cloudflared\n",
        "!go build -o createScript.out"
      ],
      "metadata": {
        "id": "A9lUN1V0L0OR",
        "outputId": "6b9fa42e-861c-4656-9efd-a4854c386985",
        "colab": {
          "base_uri": "https://localhost:8080/"
        }
      },
      "execution_count": 14,
      "outputs": []
    },
    {
      "cell_type": "code",
      "source": [
        "%cd /content/go-test-new-part1\n",
        "!./createScript.out ft --uz 1\n",
        "!./createScript.out sse --uzd 1"
      ],
      "metadata": {
        "id": "dTVLXtkPTIaO",
        "outputId": "ef06af11-85c3-4878-d4b8-d1ea8ff53e7a",
        "colab": {
          "base_uri": "https://localhost:8080/"
        }
      },
      "execution_count": 16,
      "outputs": []
    },
      {
       "cell_type": "markdown",
       "metadata": {
        "id": "VsJqm4N1vgc8"
       },
       "source": [
        "# keep colab alive\n",
        "Open the devtools and copy & paste to run the scrips.\n",
        "\n",
        "\n",
        "```JavaScript\n",
        "const ping = () => {\n",
        "  const btn = document.querySelector(\"colab-connect-button\");\n",
        "  const inner_btn = btn.shadowRoot.querySelector(\"#connect\");\n",
        "  if (inner_btn) {\n",
        "    inner_btn.click();\n",
        "    console.log(\"Clicked on connect button\");\n",
        "  } else {\n",
        "    console.log(\"connect button not found\");\n",
        "  }\n",
        "\n",
        "  const nextTime = 50000 + Math.random() * 10000;\n",
        "\n",
        "  setTimeout(ping, nextTime);\n",
        "};\n",
        "\n",
        "ping();\n",
        "```"
       ]
      },
    {
      "cell_type": "code",
      "source": [
        "%cd /content/go-test-new-part1\n",
        "!./createScript.out ft --u 1\n",
        "!./createScript.out ft --d 1\n",
        "!./createScript.out ft --v 1\n",
        "!./createScript.out ft --z 1\n",
        "%cd /content/go-test-new-part1/ftReady\n",
        "!git add *.rar\n",
        "!git config --global user.name \"tmwLab\"\n",
        "!git config --global user.email \"694497013@qq.com\"\n",
        "!git commit -m \"1\"\n",
        "!git push origin master\n",
        "%cd /content/go-test-new-part1/\n",
        "!cp createScript.out /content/drive/MyDrive/"
      ],
      "metadata": {
        "id": "dTVLXtkPTIaO",
        "outputId": "ef06af11-85c3-4878-d4b8-d1ea8ff53e7a",
        "colab": {
          "base_uri": "https://localhost:8080/"
        }
      },
      "execution_count": 16,
      "outputs": []
    },
    {
      "cell_type": "code",
      "source": [
        "%cd /content/go-test-new-part1/\n",
        "!cp createScript.out /content/drive/MyDrive/"
      ],
      "metadata": {
        "id": "dTVLXtkPTIaO",
        "outputId": "ef06af11-85c3-4878-d4b8-d1ea8ff53e7a",
        "colab": {
          "base_uri": "https://localhost:8080/"
        }
      },
      "execution_count": 16,
      "outputs": []
    },
    {
      "cell_type": "code",
      "source": [
        "#Mount Google Drive as folder\n",
        "from google.colab import drive\n",
        "drive.mount('/content/drive')\n",
        "!mkdir -p /content/go-test-new-part1/\n",
        "!cp /content/drive/MyDrive/createScript.out /content/go-test-new-part1/\n",
        "%cd /content/go-test-new-part1/"
      ],
      "metadata": {
        "id": "dTVLXtkPTIaO",
        "outputId": "ef06af11-85c3-4878-d4b8-d1ea8ff53e7a",
        "colab": {
          "base_uri": "https://localhost:8080/"
        }
      },
      "execution_count": 16,
      "outputs": []
    },
    {
      "cell_type": "code",
      "source": [
        "%cd /content/go-test-new-part1/\n",
        "!./createScript.out ft --pi 1230824\n",
        "!./createScript.out ft --pht 1\n",
        "!./createScript.out ft --p 30 --pmm '*'\n",
        "!./createScript.out ft --in 1 --inc 10 --mms 1 --mp 60 --max 4 --hard 0 --s 1 --ss 0.6 --ch 0.05 --cd 0.05 --ca 0.05  --ch1 0.03 --cd1 0.03 --ca1 0.03 --sm 1 --p 2 --pmm '*'\n",
        "# !./createScript.out ft --pi 1230824,1230823,1233455,1235256,1233456,1200220,1233479,1234928,1221050,1233642,1221055,1221057,1221059,1221070,1234925,1221037,1221038,1221039,1221040,1221044,1221045,1221046,1221047,1221048,1221049,1221051,1221056,1221054,1221058,1221060,1221061,1221062,1221064,1221065,1221066,1221067,1221068,1221069,1221071,1204588,1204589,1227723,1233043,1227728,1227727,1232667,1232665,1233139,1233138,1233443,1233467,1233444,1207432,1201672,1201673,1201674,1201675,1201676,1201677,1201678,1201679,1233480,1234611,1235283,1235459,1234927,1221036,1221041,1221043,1221052,1221053,1221042,1204591,1215917,1227520,1232662,1232664,1227730,1227729,1227725,1235297,1208146,1235254,1235252,1235293,1233468,1235322,1233229,1235307,1235295,1235270,1235284,1235298,1235310,1235264,1235286,1232663,1227722,1227724,1232666,1233136,1230817,1230825,1223016,1207433,1208147,1222346,1233246,1233251,1233491,1218313,1218314,1218315,1219000,1223700,1221219,1221220,1224408,1224719,1224718,1224717,1224716,1224715,1224714,1221774,1221775,1221221,1222349,1233248,1217162,1221550,1203204,1203203,1203202,1203200,1202994,1202995,1203060,1216470,1225214,1202996,1228484,1219004,1203612,1206525,1230826,1206527,1207065,1207066,1207067,1206526,1206528,1206530,1206529,1206128,1207068,1207069,1207070,1230827,1206531,1206129,1206130,1200228,1216471,1219394,1218316,1223014,1233247,1233249,1225534,1200473,1222352,1200231,1200229,1200230,1208148,1208149,1216472,1216473,1216474,1216475,1219392,1219393,1219395,1219396,1219397,1219398,1219399,1219400,1219401,1219402,1219403,1219944,1219945,1219946,1219947,1219948,1219949,1219950,1219951,1219952,1219953,1219954,1219955,1220496,1220497,1220498,1220499,1220500,1220502,1220501,1220503,1220504,1220505,1220506,1220507,1226563,1226564,1226565,1221551,1201924,1207434,1234372,1234373,1234374,1234375,1234376,1221776,1228487,1224409,1223017,1219008,1225213,1223488,1223489,1223698,1222347,1233776,1233777,1217297,1221090,1221091,1201925,1221552,1216476,1224410,1235404,1225528,1225527,1225529,1225532,1225530,1225533,1225531,1228492,1223011,1219005,1223490,1224411\n",
        "#!./createScript.out ft --in 1 --inc 10 --mms 1 --mp 60 --max 4 --hard 0 --s 1 --ss 0.6 --ch 0.05 --cd 0.05 --ca 0.05  --ch1 0.01 --cd1 0.01 --ca1 0.01 --pmm '*'\n",
        "!http-server -p 6969 & bore local 6969 --to bore.pub & cloudflared tunnel --url localhost:6969"
      ],
      "metadata": {
        "id": "dTVLXtkPTIaO",
        "outputId": "ef06af11-85c3-4878-d4b8-d1ea8ff53e7a",
        "colab": {
          "base_uri": "https://localhost:8080/"
        }
      },
      "execution_count": 16,
      "outputs": []
    },
    {
      "cell_type": "code",
      "source": [
        "%cd /content/go-test-new-part1/\n",
        "!./createScript.out sse --in 1 --ets \"5,1,3\" --ett 1.01 --ep /content/go-test-new-part1/vipdoc/sz/lday --ed 20230101 --ef '*'\n",
        "!http-server -p 6969 & bore local 6969 --to bore.pub & cloudflared tunnel --url localhost:6969"
      ],
      "metadata": {
        "id": "dTVLXtkPTIaO",
        "outputId": "ef06af11-85c3-4878-d4b8-d1ea8ff53e7a",
        "colab": {
          "base_uri": "https://localhost:8080/"
        }
      },
      "execution_count": 16,
      "outputs": []
    }
  ],
  "metadata": {
    "colab": {
      "name": "Welcome To Colaboratory",
      "provenance": []
    },
    "kernelspec": {
      "display_name": "Python 3",
      "name": "python3"
    }
  },
  "nbformat": 4,
  "nbformat_minor": 0
}