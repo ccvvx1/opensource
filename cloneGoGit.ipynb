{
  "cells": [
    {
      "cell_type": "code",
      "source": [
        "!ssh-keygen -t rsa -b 4096 -C \"694497013@qq.com\"\n",
        "!ssh-keyscan -t rsa github.com >> /root/.ssh/known_hosts\n",
        "!ssh-keyscan -t rsa gitee.com >> /root/.ssh/known_hosts\n",
        "!cat /root/.ssh/id_rsa.pub"
      ],
      "metadata": {
        "id": "OD50J5o_HLlf",
        "outputId": "3b26c1f5-36e3-4e0a-efa6-b243d6481a22",
        "colab": {
          "base_uri": "https://localhost:8080/"
        }
      },
      "execution_count": 1,
      "outputs": []
    },
    {
      "cell_type": "code",
      "source": [
        "!git clone git@gitee.com:tanmwin/go-testnew1.git"
      ],
      "metadata": {
        "id": "A9lUN1V0L0OR",
        "outputId": "6b9fa42e-861c-4656-9efd-a4854c386985",
        "colab": {
          "base_uri": "https://localhost:8080/"
        }
      },
      "execution_count": 14,
      "outputs": []
    },
    {
      "cell_type": "code",
      "source": [
        "#Mount Google Drive as folder\n",
        "from google.colab import drive\n",
        "drive.mount('/content/drive')"
      ],
      "metadata": {
        "id": "dTVLXtkPTIaO",
        "outputId": "ef06af11-85c3-4878-d4b8-d1ea8ff53e7a",
        "colab": {
          "base_uri": "https://localhost:8080/"
        }
      },
      "execution_count": 16,
      "outputs": []
    }
  ],
  "metadata": {
    "colab": {
      "name": "Welcome To Colaboratory",
      "provenance": []
    },
    "kernelspec": {
      "display_name": "Python 3",
      "name": "python3"
    }
  },
  "nbformat": 4,
  "nbformat_minor": 0
}