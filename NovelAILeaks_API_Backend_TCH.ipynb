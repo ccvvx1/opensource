{
  "cells": [
    {
      "cell_type": "markdown",
      "metadata": {
        "id": "KZ88G-iWCTs7"
      },
      "source": [
        "基於 4chan 魔改版 NovelAILeaks (naifu) 製作。 [來源](https://boards.4channel.org/g/thread/89095460#p89097704)\n",
        "\n",
        "使用官方前端 + 優化版後端，可突破75限制，支持所有模型。"
      ]
    },
    {
      "cell_type": "code",
      "execution_count": 1,
      "metadata": {
        "colab": {
          "base_uri": "https://localhost:8080/"
        },
        "executionInfo": {
          "elapsed": 12,
          "status": "ok",
          "timestamp": 1672663292504,
          "user": {
            "displayName": "Ttnn Wwaw",
            "userId": "03926079553968079319"
          },
          "user_tz": -480
        },
        "id": "XqZs8S_fr5zV",
        "outputId": "1b183d5b-f7a2-4518-a5aa-974865c08473"
      },
      "outputs": [],
      "source": [
        "!ls -lR"
      ]
    },
    {
      "cell_type": "code",
      "execution_count": 4,
      "metadata": {
        "colab": {
          "base_uri": "https://localhost:8080/"
        },
        "executionInfo": {
          "elapsed": 8927,
          "status": "ok",
          "timestamp": 1672663470449,
          "user": {
            "displayName": "Ttnn Wwaw",
            "userId": "03926079553968079319"
          },
          "user_tz": -480
        },
        "id": "kUNivuCBrVRd",
        "outputId": "45c4bb03-7aae-4c44-bc3c-e67ba72b9512"
      },
      "outputs": [],
      "source": [
        "# Load the Drive helper and mount\n",
        "from google.colab import drive\n",
        " \n",
        "# This will prompt for authorization.\n",
        "drive.mount('/content/drive')"
      ]
    },
    {
      "cell_type": "code",
      "execution_count": 6,
      "metadata": {
        "colab": {
          "base_uri": "https://localhost:8080/",
          "height": 401
        },
        "executionInfo": {
          "elapsed": 752,
          "status": "error",
          "timestamp": 1672663621619,
          "user": {
            "displayName": "Ttnn Wwaw",
            "userId": "03926079553968079319"
          },
          "user_tz": -480
        },
        "id": "nGwPS1cKX3U7",
        "outputId": "e3be467c-f7f9-4417-9ac2-9fd2d64fda2a"
      },
      "outputs": [],
      "source": [
        "from __future__ import print_function, division\n",
        "import os\n",
        "import torch\n",
        "import pandas as pd\n",
        "from PIL import Image\n",
        "import numpy as np\n",
        "import cv2\n",
        "from torch.utils.data import Dataset, DataLoader\n",
        "from torchvision import transforms\n",
        "from google.colab.patches import cv2_imshow\n",
        "\n",
        "transform1 = transforms.Compose([transforms.Resize([22, 22]), transforms.ToTensor()])\n",
        "\n",
        "\n",
        "class FaceLandmarkDataset(Dataset):\n",
        "    def __len__(self) -> int:\n",
        "        print(\"!!!!!!!!\", len(self.landmarks_frame))\n",
        "        return len(self.landmarks_frame)\n",
        "\n",
        "    def __init__(self, csv_file: str, root_dir: str, transform=None) -> None:\n",
        "        super().__init__()\n",
        "        self.landmarks_frame = pd.read_csv(csv_file)\n",
        "        self.root_dir = root_dir\n",
        "        self.transform = transform\n",
        "\n",
        "    def __getitem__(self, index: int):\n",
        "        img_name = self.landmarks_frame.Filename[index]\n",
        "        print(img_name)\n",
        "        img_path = os.path.join('/content/drive/MyDrive/tmp/', str(img_name) + \".png\")\n",
        "        print(img_path)\n",
        "        # with Image.open(img_path) as img: \n",
        "        #     image = img.convert('RGB') \n",
        "        img = cv2.imread(img_path)\n",
        "\n",
        "        PIL_image = Image.fromarray(img)  # 这里ndarray_image为原来的numpy数组类型的输入\n",
        "\n",
        "        img1 = transform1(PIL_image)\n",
        "        img2 = img1.numpy() * 255\n",
        "        img2 = img2.astype('uint8')\n",
        "        img2 = np.transpose(img2, (1, 2, 0))\n",
        "        img2 = np.reshape(img2, (3, 22,22))\n",
        "        landmarks = self.landmarks_frame.values[index, 1:].astype('float')\n",
        "        print(landmarks)\n",
        "        # landmarks = np.reshape(landmarks,newshape=(-1,2)) \n",
        "        # if self.transform is not None: \n",
        "        #     image = self.transform(image) \n",
        "\n",
        "        cv2_imshow(img2)\n",
        "        # print(str(img2.size()))\n",
        "        return img2, landmarks\n",
        "\n",
        "    ########################以上为数据读取类（返回：image,landmarks）###############################\n",
        "\n",
        "\n",
        "trans = transforms.Compose(transforms=[transforms.RandomResizedCrop(size=128),\n",
        "                                       transforms.ToTensor()])\n",
        "\n",
        "face_dataset = FaceLandmarkDataset(csv_file=r'/content/drive/MyDrive/tmp/Run History.csv',\n",
        "                                   root_dir='/content/drive/MyDrive/tmp', transform=trans)\n",
        "loader = DataLoader(dataset=face_dataset,\n",
        "                    batch_size=4,\n",
        "                    shuffle=True,\n",
        "                    num_workers=4)\n",
        "\n",
        "# img, label=face_dataset[1]\n",
        "# cv2_imshow(img.numpy().transpose(1,2,0)*255)\n",
        "# print(label)\n",
        "\n",
        "# dataiterator = iter(loader)\n",
        "# img, label = dataiterator.next()\n",
        "\n",
        "# print(img.size(), label.size())"
      ]
    },
    {
      "cell_type": "code",
      "execution_count": 7,
      "metadata": {
        "colab": {
          "base_uri": "https://localhost:8080/"
        },
        "executionInfo": {
          "elapsed": 1465,
          "status": "ok",
          "timestamp": 1672663668299,
          "user": {
            "displayName": "Ttnn Wwaw",
            "userId": "03926079553968079319"
          },
          "user_tz": -480
        },
        "id": "X5yF8TS1CR3L",
        "outputId": "b8a87a5e-9f57-4a64-e0ec-3d73d1d6bf5f"
      },
      "outputs": [],
      "source": [
        "#@title ### 0. 檢查 GPU 工作狀態\n",
        "\n",
        "!nvidia-smi"
      ]
    },
    {
      "cell_type": "code",
      "execution_count": null,
      "metadata": {
        "colab": {
          "background_save": true,
          "base_uri": "https://localhost:8080/"
        },
        "id": "iqTO_Uf3F6VW",
        "outputId": "35989615-5cb8-48ae-da9c-d3f77e47c7d4"
      },
      "outputs": [],
      "source": [
        "#@title ### 1. 下載 Novel AI API 後端、模型 \n",
        "#@markdown 如果下載速度太慢可以嘗試 restart\n",
        "\n",
        "%cd /content/\n",
        "!apt install -y -qq aria2\n",
        "!aria2c --summary-interval=5 -x 3 --allow-overwrite=true -Z \\\n",
        "  https://pub-2fdef7a2969f43289c42ac5ae3412fd4.r2.dev/naifu.tar \\\n",
        "  https://pub-2fdef7a2969f43289c42ac5ae3412fd4.r2.dev/animefull-latest.tar \n",
        "  \n",
        "!echo \"Decompressing...\"\n",
        "!tar xf naifu.tar && rm naifu.tar\n",
        "!echo \"Done.\""
      ]
    },
    {
      "cell_type": "code",
      "execution_count": null,
      "metadata": {
        "colab": {
          "background_save": true
        },
        "id": "BysBfYRmGSo1",
        "outputId": "da4fc29a-9234-48cf-cb80-994b75ed1c25"
      },
      "outputs": [],
      "source": [
        "#@title ### 2. 安裝依賴\n",
        "#@markdown 耐心等待安裝完成\n",
        "\n",
        "%cd /content/naifu\n",
        "!pip install virtualenv && bash ./setup.sh\n",
        "!curl -Ls https://github.com/ekzhang/bore/releases/download/v0.4.0/bore-v0.4.0-x86_64-unknown-linux-musl.tar.gz | tar zx -C /usr/bin\n",
        "!curl -Lo /usr/bin/cloudflared https://github.com/cloudflare/cloudflared/releases/latest/download/cloudflared-linux-amd64 && chmod +x /usr/bin/cloudflared"
      ]
    },
    {
      "cell_type": "code",
      "execution_count": null,
      "metadata": {
        "colab": {
          "background_save": true
        },
        "id": "uQBR9zXQGJrn"
      },
      "outputs": [],
      "source": [
        "#@title ### 3. 啟動模型\n",
        "#@markdown 訪問輸出的映射地址（以 `trycloudflare.com` / `bore.pub` 結尾）即可。\n",
        "#@markdown - 請等待模型加載完成（出現`Application startup complete`字樣）再訪問\n",
        "#@markdown - cloudflare 提供的服務偶爾會出現請求超時，可換用 bore 隧道\n",
        "\n",
        "%cd /content/naifu\n",
        "!sed -i 's/pytorch_lightning.utilities.distributed/pytorch_lightning.utilities.rank_zero/g' /content/naifu/ldm/models/diffusion/ddpm.py\n",
        "!sed -i 's/# export SAVE_FILES=\"1\"/export SAVE_FILES=\"1\"/g' run.sh\n",
        "!bash run.sh & cloudflared tunnel --url localhost:6969"
      ]
    },
    {
      "cell_type": "code",
      "execution_count": null,
      "metadata": {
        "id": "B9j9thAby5_2"
      },
      "outputs": [],
      "source": [
        "#@title ### 4. （可選）使用 7G 的 `animefull-latest` 模型運行\n",
        "#@markdown 默認使用的是 4G 大小的 animefull-final-pruned 模型。如果想使用 7G 的 animefull-latest 模型，運行這個\n",
        "\n",
        "%cd /content/\n",
        "!tar xf animefull-latest.tar -C /content/naifu/models && rm animefull-latest.tar\n",
        "!sed -i 's/map_location=\"cpu\"/map_location=\"cuda\"/g' /content/naifu/hydra_node/models.py\n",
        "\n",
        "%cd /content/naifu\n",
        "%env DTYPE=float16\n",
        "%env CLIP_CONTEXTS=3\n",
        "%env AMP=1\n",
        "%env MODEL=stable-diffusion\n",
        "%env DEV=True\n",
        "%env MODEL_PATH=models/animefull-latest\n",
        "%env ENABLE_EMA=1\n",
        "%env VAE_PATH=models/animevae.pt\n",
        "%env PENULTIMATE=1\n",
        "%env PYTHONDONTWRITEBYTECODE=1\n",
        "%env SAVE_FILES=1\n",
        "\n",
        "!./venv/bin/python -m uvicorn --host 0.0.0.0 --port=6969 main:app & bore local 6969 --to bore.pub & cloudflared tunnel --url localhost:6969"
      ]
    },
    {
      "cell_type": "code",
      "execution_count": null,
      "metadata": {},
      "outputs": [],
      "source": [
        "!pip install virtualenv\n",
        "!virtualenv venv\n",
        "!cat /content/venv/bin/activate\n",
        "tmpAct = '/content/venv/bin/activate'\n",
        "!cp $tmpAct /content/venv/bin/activate1\n",
        "!cp $tmpAct /content/venv/bin/activate2\n",
        "!cp $tmpAct /content/venv/bin/activate3\n",
        "!cp $tmpAct /content/venv/bin/activate4\n",
        "!cp $tmpAct /content/venv/bin/activate5\n",
        "!cp $tmpAct /content/venv/bin/activate6\n",
        "!cp $tmpAct /content/venv/bin/activate7\n",
        "!cp $tmpAct /content/venv/bin/activate8\n",
        "!cp $tmpAct /content/venv/bin/activate9"
      ]
    },
    {
      "cell_type": "code",
      "execution_count": null,
      "metadata": {},
      "outputs": [],
      "source": [
        "tmpAct = '/content/venv/bin/activate'"
      ]
    },
    {
      "cell_type": "code",
      "execution_count": null,
      "metadata": {},
      "outputs": [],
      "source": [
        "fileName = tmpAct\n",
        "!sed -i \"s/export VIRTUAL_ENV_PROMPT/export  VIRTUAL_ENV_PROMPT \\&\\& echo \\\"os.environ['VIRTUAL_ENV_PROMPT'] = '\\$VIRTUAL_ENV_PROMPT'\\\"/g\" $fileName\n",
        "!sed -i \"s/export VIRTUAL_ENV/export VIRTUAL_ENV \\&\\& echo \\\"import os;\\\" \\&\\& echo \\\"os.environ['VIRTUAL_ENV'] = '\\$VIRTUAL_ENV'\\\"/g\" $fileName\n",
        "!sed -i \"s/export PS1/export PS1 \\&\\& echo \\\"os.environ['PS1'] = '\\$PS1'\\\"/g\" $fileName\n",
        "!sed -i \"s/export PATH/export PATH \\&\\& echo \\\"os.environ['PATH'] = '\\$PATH'\\\"/g\" $fileName\n",
        "!sed -i \"s/export PYTHONHOME/export PYTHONHOME \\&\\& echo \\\"os.environ['PYTHONHOME'] = '\\$PYTHONHOME'\\\"/g\" $fileName\n",
        "!cat $tmpAct"
      ]
    },
    {
      "cell_type": "code",
      "execution_count": null,
      "metadata": {},
      "outputs": [],
      "source": [
        "!. $tmpAct"
      ]
    }
  ],
  "metadata": {
    "accelerator": "GPU",
    "colab": {
      "name": "",
      "provenance": [
        {
          "file_id": "https://github.com/JingShing/novelai-colab-ver/blob/main/4chan_ver/NovelAILeaks_API_Backend_TCH.ipynb",
          "timestamp": 1667188719270
        }
      ],
      "version": ""
    },
    "kernelspec": {
      "display_name": "Python 3",
      "name": "python3"
    },
    "language_info": {
      "name": "python"
    }
  },
  "nbformat": 4,
  "nbformat_minor": 0
}
