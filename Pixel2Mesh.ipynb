{
  "nbformat": 4,
  "nbformat_minor": 0,
  "metadata": {
    "colab": {
      "provenance": [
        {
          "file_id": "13xkSkvPaF5GU6Wpf35nVHUdP77oBVHlT",
          "timestamp": 1677306799423
        }
      ]
    },
    "kernelspec": {
      "name": "python3",
      "display_name": "Python 3"
    },
    "accelerator": "GPU"
  },
  "cells": [
    {
      "cell_type": "markdown",
      "metadata": {
        "id": "eFFj7dOBealN"
      },
      "source": [
        "# Pixel2Mesh\n",
        "Wang, N., Zhang, Y., Li, Z., Fu, Y., Liu, W., & Jiang, Y. G. (2018). Pixel2mesh: Generating 3d mesh models from single rgb images. In Proceedings of the European Conference on Computer Vision (ECCV) (pp. 52-67)."
      ]
    },
    {
      "cell_type": "markdown",
      "metadata": {
        "id": "zONvFgQOvDB8"
      },
      "source": [
        "Official implementation can be found [here](https://github.com/nywang16/Pixel2Mesh)\n",
        "\n",
        "Colab version implemented by [Mathias Gatti](https://mathigatti.com)"
      ]
    },
    {
      "cell_type": "code",
      "metadata": {
        "id": "k63eMMaEebRP",
        "colab": {
          "base_uri": "https://localhost:8080/"
        },
        "executionInfo": {
          "status": "ok",
          "timestamp": 1677306539815,
          "user_tz": -480,
          "elapsed": 3433,
          "user": {
            "displayName": "Ttnn Wwaw",
            "userId": "03926079553968079319"
          }
        },
        "outputId": "e5008325-cf5c-4964-d0b2-8a20cbf69df9"
      },
      "source": [
        "!git clone https://github.com/mathigatti/Pixel2Mesh.git"
      ],
      "execution_count": 1,
      "outputs": []
    },
    {
      "cell_type": "code",
      "metadata": {
        "id": "BH71t4P8fSDS",
        "colab": {
          "base_uri": "https://localhost:8080/"
        },
        "executionInfo": {
          "status": "ok",
          "timestamp": 1677306569996,
          "user_tz": -480,
          "elapsed": 4095,
          "user": {
            "displayName": "Ttnn Wwaw",
            "userId": "03926079553968079319"
          }
        },
        "outputId": "948f3513-12fe-4eaa-ed16-ac4522f6810a"
      },
      "source": [
        "!wget --load-cookies /tmp/cookies.txt \"https://docs.google.com/uc?export=download&confirm=$(wget --quiet --save-cookies /tmp/cookies.txt --keep-session-cookies --no-check-certificate 'https://docs.google.com/uc?export=download&id=1gD-dk-XrAa5mfrgdZSunjaS6pUUWsZgU' -O- | sed -rn 's/.*confirm=([0-9A-Za-z_]+).*/\\1\\n/p')&id=1gD-dk-XrAa5mfrgdZSunjaS6pUUWsZgU\" -O checkpoints.zip && rm -rf /tmp/cookies.txt\n",
        "!unzip checkpoints.zip -d /content/Pixel2Mesh/Data"
      ],
      "execution_count": 2,
      "outputs": []
    },
    {
      "cell_type": "markdown",
      "metadata": {
        "id": "4glpdf4Wfu2m"
      },
      "source": [
        "## Installing CUDA 8"
      ]
    },
    {
      "cell_type": "code",
      "metadata": {
        "id": "zrtjn54revAm",
        "colab": {
          "base_uri": "https://localhost:8080/"
        },
        "executionInfo": {
          "status": "ok",
          "timestamp": 1677300350794,
          "user_tz": -480,
          "elapsed": 36306,
          "user": {
            "displayName": "Ttnn Wwaw",
            "userId": "03926079553968079319"
          }
        },
        "outputId": "d851a8a4-ff13-4f67-dfb6-f84d062afa5e"
      },
      "source": [
        "!apt-get --purge remove cuda nvidia* libnvidia-*\n",
        "!dpkg -l | grep cuda- | awk '{print $2}' | xargs -n1 dpkg --purge\n",
        "!apt-get remove cuda-*\n",
        "!apt autoremove\n",
        "!apt-get update"
      ],
      "execution_count": 3,
      "outputs": []
    },
    {
      "cell_type": "code",
      "metadata": {
        "id": "c1CaM9wYfb_N",
        "colab": {
          "base_uri": "https://localhost:8080/"
        },
        "executionInfo": {
          "status": "ok",
          "timestamp": 1677300375970,
          "user_tz": -480,
          "elapsed": 19418,
          "user": {
            "displayName": "Ttnn Wwaw",
            "userId": "03926079553968079319"
          }
        },
        "outputId": "d76c04d6-7c29-486f-f70a-6b874e4ac935"
      },
      "source": [
        "!wget https://developer.nvidia.com/compute/cuda/8.0/Prod2/local_installers/cuda-repo-ubuntu1604-8-0-local-ga2_8.0.61-1_amd64-deb\n",
        "!dpkg -i cuda-repo-ubuntu1604-8-0-local-ga2_8.0.61-1_amd64-deb"
      ],
      "execution_count": 4,
      "outputs": []
    },
    {
      "cell_type": "code",
      "metadata": {
        "id": "VCc07tlahu4M",
        "colab": {
          "base_uri": "https://localhost:8080/"
        },
        "executionInfo": {
          "status": "ok",
          "timestamp": 1677300391646,
          "user_tz": -480,
          "elapsed": 7731,
          "user": {
            "displayName": "Ttnn Wwaw",
            "userId": "03926079553968079319"
          }
        },
        "outputId": "2409e535-5bce-4d23-e31b-7324b4b281cc"
      },
      "source": [
        "!find / -name 7fa2af80.pub"
      ],
      "execution_count": 5,
      "outputs": []
    },
    {
      "cell_type": "code",
      "metadata": {
        "id": "0FOVU2pXgRoq",
        "colab": {
          "base_uri": "https://localhost:8080/"
        },
        "executionInfo": {
          "status": "ok",
          "timestamp": 1677300393542,
          "user_tz": -480,
          "elapsed": 382,
          "user": {
            "displayName": "Ttnn Wwaw",
            "userId": "03926079553968079319"
          }
        },
        "outputId": "3c52707d-74b7-4e31-f4b5-387d8036e938"
      },
      "source": [
        "!apt-key add /var/cuda-repo-8-0-local-ga2/7fa2af80.pub"
      ],
      "execution_count": 6,
      "outputs": []
    },
    {
      "cell_type": "code",
      "metadata": {
        "id": "JaGNU2tlfyoF",
        "colab": {
          "base_uri": "https://localhost:8080/"
        },
        "executionInfo": {
          "status": "ok",
          "timestamp": 1677300752503,
          "user_tz": -480,
          "elapsed": 356478,
          "user": {
            "displayName": "Ttnn Wwaw",
            "userId": "03926079553968079319"
          }
        },
        "outputId": "2aa3af2d-2d2d-4177-dd89-76e6a2973733"
      },
      "source": [
        "!apt-get update\n",
        "!apt-get install cuda-8-0"
      ],
      "execution_count": 7,
      "outputs": []
    },
    {
      "cell_type": "code",
      "metadata": {
        "id": "ikukjS4XiDCA",
        "colab": {
          "base_uri": "https://localhost:8080/"
        },
        "executionInfo": {
          "status": "ok",
          "timestamp": 1677300994333,
          "user_tz": -480,
          "elapsed": 392,
          "user": {
            "displayName": "Ttnn Wwaw",
            "userId": "03926079553968079319"
          }
        },
        "outputId": "f4c2fb1f-9844-4248-ba7e-0bdcb686e30e"
      },
      "source": [
        "!nvcc --version"
      ],
      "execution_count": 8,
      "outputs": []
    },
    {
      "cell_type": "markdown",
      "metadata": {
        "id": "CJ4bzMbOgY1A"
      },
      "source": [
        "## Installing python libraries"
      ]
    },
    {
      "cell_type": "code",
      "metadata": {
        "id": "Smgq3UTVganc",
        "colab": {
          "base_uri": "https://localhost:8080/"
        },
        "executionInfo": {
          "status": "ok",
          "timestamp": 1677306725052,
          "user_tz": -480,
          "elapsed": 57750,
          "user": {
            "displayName": "Ttnn Wwaw",
            "userId": "03926079553968079319"
          }
        },
        "outputId": "9cbdc71f-7419-47f9-ef2a-1e98da48af09"
      },
      "source": [
        "!apt install python2\n",
        "!python2 -m pip install tensorflow==1.3.0\n",
        "!python2 -m pip install tflearn==0.3.2\n",
        "!python2 -m pip install --no-cache-dir scikit-image"
      ],
      "execution_count": 6,
      "outputs": []
    },
    {
      "cell_type": "code",
      "source": [
        "# !apt install python2\n",
        "!curl https://bootstrap.pypa.io/pip/2.7/get-pip.py --output get-pip.py\n",
        "!python2 get-pip.py"
      ],
      "metadata": {
        "id": "5d7ZeDou7pVj",
        "executionInfo": {
          "status": "ok",
          "timestamp": 1677306658128,
          "user_tz": -480,
          "elapsed": 4808,
          "user": {
            "displayName": "Ttnn Wwaw",
            "userId": "03926079553968079319"
          }
        },
        "outputId": "b01251fc-0c6d-4019-bf18-3e1b54ee1b8d",
        "colab": {
          "base_uri": "https://localhost:8080/"
        }
      },
      "execution_count": 5,
      "outputs": []
    },
    {
      "cell_type": "markdown",
      "metadata": {
        "id": "8lVMlvq3fcH8"
      },
      "source": [
        "## Running it"
      ]
    },
    {
      "cell_type": "code",
      "metadata": {
        "id": "xXxbMrF4fdZs",
        "colab": {
          "base_uri": "https://localhost:8080/"
        },
        "executionInfo": {
          "status": "ok",
          "timestamp": 1677306745388,
          "user_tz": -480,
          "elapsed": 9864,
          "user": {
            "displayName": "Ttnn Wwaw",
            "userId": "03926079553968079319"
          }
        },
        "outputId": "246eb08d-4c42-4a16-9ad9-82b32bca47f8"
      },
      "source": [
        "%cd /content/Pixel2Mesh\n",
        "!python2 demo.py --image Data/examples/plane.png"
      ],
      "execution_count": 7,
      "outputs": []
    },
    {
      "cell_type": "markdown",
      "metadata": {
        "id": "S6m7Sit9eXVQ"
      },
      "source": [
        "# Pixel2Mesh++\n",
        "Wen, C., Zhang, Y., Li, Z., & Fu, Y. (2019). Pixel2mesh++: Multi-view 3d mesh generation via deformation. In Proceedings of the IEEE International Conference on Computer Vision (pp. 1042-1051)."
      ]
    },
    {
      "cell_type": "code",
      "metadata": {
        "id": "XQbJSJ9KC8EU",
        "colab": {
          "base_uri": "https://localhost:8080/"
        },
        "executionInfo": {
          "status": "ok",
          "timestamp": 1677301577548,
          "user_tz": -480,
          "elapsed": 840,
          "user": {
            "displayName": "Ttnn Wwaw",
            "userId": "03926079553968079319"
          }
        },
        "outputId": "e933fff1-dd79-4024-a1e0-7ed7d49f426e"
      },
      "source": [
        "%cd /content\n",
        "!git clone https://github.com/walsvid/Pixel2MeshPlusPlus.git"
      ],
      "execution_count": 28,
      "outputs": []
    },
    {
      "cell_type": "code",
      "metadata": {
        "id": "cQNJtEaKPuGQ",
        "colab": {
          "base_uri": "https://localhost:8080/"
        },
        "executionInfo": {
          "status": "ok",
          "timestamp": 1677301584598,
          "user_tz": -480,
          "elapsed": 4431,
          "user": {
            "displayName": "Ttnn Wwaw",
            "userId": "03926079553968079319"
          }
        },
        "outputId": "952ab757-ff4a-48cf-e768-2b21f8644a73"
      },
      "source": [
        "!wget --load-cookies /tmp/cookies.txt \"https://docs.google.com/uc?export=download&confirm=$(wget --quiet --save-cookies /tmp/cookies.txt --keep-session-cookies --no-check-certificate 'https://docs.google.com/uc?export=download&id=1qYqH-5d7l5p8nXd_o_b32RUOdHtTJKtK' -O- | sed -rn 's/.*confirm=([0-9A-Za-z_]+).*/\\1\\n/p')&id=1qYqH-5d7l5p8nXd_o_b32RUOdHtTJKtK\" -O models.tar.gz && rm -rf /tmp/cookies.txt\n",
        "!tar xvzf models.tar.gz -C /content/Pixel2MeshPlusPlus\n",
        "!rm -rf /content/Pixel2MeshPlusPlus/results\n",
        "!mv /content/Pixel2MeshPlusPlus/p2mpp_models /content/Pixel2MeshPlusPlus/results"
      ],
      "execution_count": 29,
      "outputs": []
    },
    {
      "cell_type": "markdown",
      "metadata": {
        "id": "FnzR3cagfEA5"
      },
      "source": [
        "## Installing CUDA 9"
      ]
    },
    {
      "cell_type": "code",
      "metadata": {
        "id": "O-Nukj-IW1SQ"
      },
      "source": [
        "!apt-get --purge remove cuda nvidia* libnvidia-*\n",
        "!dpkg -l | grep cuda- | awk '{print $2}' | xargs -n1 dpkg --purge\n",
        "!apt-get remove cuda-*\n",
        "!apt autoremove\n",
        "!apt-get update"
      ],
      "execution_count": null,
      "outputs": []
    },
    {
      "cell_type": "code",
      "metadata": {
        "id": "4_4MDpwMTHgP"
      },
      "source": [
        "!wget https://developer.nvidia.com/compute/cuda/9.0/Prod/local_installers/cuda-repo-ubuntu1704-9-0-local_9.0.176-1_amd64-deb\n",
        "!dpkg -i /content/cuda-repo-ubuntu1704-9-0-local_9.0.176-1_amd64-deb\n",
        "!apt-key add /var/cuda-repo-9-0-local/7fa2af80.pub"
      ],
      "execution_count": null,
      "outputs": []
    },
    {
      "cell_type": "code",
      "metadata": {
        "id": "lye_9V2uVnOD"
      },
      "source": [
        "!apt-get update\n",
        "!apt-get install cuda-9-0"
      ],
      "execution_count": null,
      "outputs": []
    },
    {
      "cell_type": "code",
      "metadata": {
        "id": "jrgCQsOjWCff",
        "colab": {
          "base_uri": "https://localhost:8080/"
        },
        "executionInfo": {
          "status": "ok",
          "timestamp": 1677301592815,
          "user_tz": -480,
          "elapsed": 455,
          "user": {
            "displayName": "Ttnn Wwaw",
            "userId": "03926079553968079319"
          }
        },
        "outputId": "62568f09-afe1-409b-f21a-ba657dab7fe8"
      },
      "source": [
        "# Checking everything is fine\n",
        "!nvcc --version"
      ],
      "execution_count": 30,
      "outputs": [
        {
          "output_type": "stream",
          "name": "stdout",
          "text": [
            "nvcc: NVIDIA (R) Cuda compiler driver\n",
            "Copyright (c) 2005-2016 NVIDIA Corporation\n",
            "Built on Tue_Jan_10_13:22:03_CST_2017\n",
            "Cuda compilation tools, release 8.0, V8.0.61\n"
          ]
        }
      ]
    },
    {
      "cell_type": "markdown",
      "metadata": {
        "id": "xsTwbBT2e4RY"
      },
      "source": [
        "## Python libraries"
      ]
    },
    {
      "cell_type": "code",
      "metadata": {
        "id": "zlQwtNHcdMGy",
        "colab": {
          "base_uri": "https://localhost:8080/"
        },
        "executionInfo": {
          "status": "ok",
          "timestamp": 1677301627524,
          "user_tz": -480,
          "elapsed": 27327,
          "user": {
            "displayName": "Ttnn Wwaw",
            "userId": "03926079553968079319"
          }
        },
        "outputId": "1c2c5b50-7e3d-4137-94d8-e8c42da019ed"
      },
      "source": [
        "!pip install tensorflow==1.12.0\n",
        "!pip install tflearn==0.3.2"
      ],
      "execution_count": 31,
      "outputs": []
    },
    {
      "cell_type": "code",
      "metadata": {
        "id": "QFwuJSgjeyap",
        "colab": {
          "base_uri": "https://localhost:8080/",
          "height": 307
        },
        "executionInfo": {
          "status": "ok",
          "timestamp": 1594783362560,
          "user_tz": 180,
          "elapsed": 1589,
          "user": {
            "displayName": "Mathias Gatti",
            "photoUrl": "https://lh3.googleusercontent.com/a-/AOh14GhuCMJ2GmEgLpkXaR7vFJmMTovT_Lvb6X6hg35RsPM=s64",
            "userId": "00295207394134228557"
          }
        },
        "outputId": "4c950349-6dc0-4bed-e71e-a86f085dbd16"
      },
      "source": [
        "%tensorflow_version 1.x\n",
        "import tensorflow as tf\n",
        "tf.sysconfig.get_link_flags()"
      ],
      "execution_count": null,
      "outputs": []
    },
    {
      "cell_type": "markdown",
      "metadata": {
        "id": "gOlJUiooe8MO"
      },
      "source": [
        "## Running it"
      ]
    },
    {
      "cell_type": "code",
      "metadata": {
        "id": "lp5kYle9Wk73",
        "colab": {
          "base_uri": "https://localhost:8080/",
          "height": 559
        },
        "executionInfo": {
          "status": "ok",
          "timestamp": 1594784226986,
          "user_tz": 180,
          "elapsed": 69684,
          "user": {
            "displayName": "Mathias Gatti",
            "photoUrl": "https://lh3.googleusercontent.com/a-/AOh14GhuCMJ2GmEgLpkXaR7vFJmMTovT_Lvb6X6hg35RsPM=s64",
            "userId": "00295207394134228557"
          }
        },
        "outputId": "946b0a59-1f84-468e-f425-962b20a12c11"
      },
      "source": [
        "%tensorflow_version 1.x\n",
        "%cd /content/Pixel2MeshPlusPlus/\n",
        "!python demo.py"
      ],
      "execution_count": null,
      "outputs": []
    }
  ]
}